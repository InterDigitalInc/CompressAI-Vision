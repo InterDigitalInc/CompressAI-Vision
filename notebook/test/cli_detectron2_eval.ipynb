{
    "cells": [
        {
            "cell_type": "markdown",
            "id": "027eeab4",
            "metadata": {},
            "source": [
                "Each cell test a different CLI command"
            ]
        },
        {
            "cell_type": "code",
            "execution_count": 1,
            "id": "afd7b56d",
            "metadata": {},
            "outputs": [
                {
                    "name": "stderr",
                    "output_type": "stream",
                    "text": [
                        "/tmp/ipykernel_21034/604625567.py:1: DeprecationWarning: Importing display from IPython.core.display is deprecated since IPython 7.14, please import from IPython display\n",
                        "  from IPython.core.display import display, HTML, Markdown\n"
                    ]
                },
                {
                    "data": {
                        "text/html": [
                            "<style>.container { width:100% !important; }</style>"
                        ],
                        "text/plain": [
                            "<IPython.core.display.HTML object>"
                        ]
                    },
                    "metadata": {},
                    "output_type": "display_data"
                }
            ],
            "source": [
                "from IPython.core.display import display, HTML, Markdown\n",
                "import ipywidgets as widgets\n",
                "# %run includeme.ipynb # include a notebook from this same directory\n",
                "display(HTML(\"<style>.container { width:100% !important; }</style>\"))"
            ]
        },
        {
            "cell_type": "code",
            "execution_count": 2,
            "id": "e9eac752",
            "metadata": {},
            "outputs": [],
            "source": [
                "path=\"/home/sampsa/Downloads/VVCSoftware_VTM-VTM-12.0/bin\""
            ]
        },
        {
            "cell_type": "code",
            "execution_count": 3,
            "id": "8e7fb9fe",
            "metadata": {},
            "outputs": [
                {
                    "name": "stdout",
                    "output_type": "stream",
                    "text": [
                        "WARNING: using VTM default config file /home/sampsa/silo/interdigital/CompressAI-Vision/compressai_vision/data/encoder_intra_vtm_1.cfg\n",
                        "\n",
                        "Using dataset          : mpeg_vcm-detection-dummy\n",
                        "Number of samples      : 1\n",
                        "Torch device           : cpu\n",
                        "Detectron2 model       : COCO-Detection/faster_rcnn_X_101_32x8d_FPN_3x.yaml\n",
                        "Model was trained with : coco_2017_train\n",
                        "Using VTM               \n",
                        "Quality parameters      : [47.0]\n",
                        "Peek model classes     :\n",
                        "['airplane', 'apple', 'backpack', 'banana', 'baseball bat'] ...\n",
                        "Peek dataset classes   :\n",
                        "['airplane'] ...\n",
                        "instantiating Detectron2 predictor\n",
                        "[Checkpointer] Loading from https://dl.fbaipublicfiles.com/detectron2/COCO-Detection/faster_rcnn_X_101_32x8d_FPN_3x/139173657/model_final_68b088.pkl ...\n",
                        "URL https://dl.fbaipublicfiles.com/detectron2/COCO-Detection/faster_rcnn_X_101_32x8d_FPN_3x/139173657/model_final_68b088.pkl cached in /home/sampsa/.torch/iopath_cache/detectron2/COCO-Detection/faster_rcnn_X_101_32x8d_FPN_3x/139173657/model_final_68b088.pkl\n",
                        "Reading a file from 'Detectron2 Model Zoo'\n",
                        "\n",
                        "QUALITY PARAMETER 47.0\n",
                        "encoderApp:   /home/sampsa/Downloads/VVCSoftware_VTM-VTM-12.0/bin/EncoderAppStaticd\n",
                        "decoderApp:   /home/sampsa/Downloads/VVCSoftware_VTM-VTM-12.0/bin/DecoderAppStaticd\n",
                        "ffmpeg    :   ffmpeg\n",
                        "qp        :   47.0\n",
                        "path      :   /dev/shm/vtm_139946580786000\n",
                        "\n",
                        "VTMEncoderDecoder - DEBUG - ffmpeg -y -hide_banner -loglevel error -i pipe: -vf \"pad=ceil(iw/2)*2:ceil(ih/2)*2\" -f apng pipe:\n",
                        "VTMEncoderDecoder - DEBUG - ffmpeg -y -hide_banner -loglevel error -i pipe: -f rawvideo -pix_fmt yuv420p -dst_range 1 pipe:\n",
                        "VTMEncoderDecoder - DEBUG - writing /dev/shm/vtm_139946580786000/tmp.yuv\n",
                        "VTMEncoderDecoder - DEBUG - /home/sampsa/Downloads/VVCSoftware_VTM-VTM-12.0/bin/EncoderAppStaticd -c /home/sampsa/silo/interdigital/CompressAI-Vision/compressai_vision/data/encoder_intra_vtm_1.cfg -i /dev/shm/vtm_139946580786000/tmp.yuv -b /dev/shm/vtm_139946580786000/bin -o /dev/shm/vtm_139946580786000/nada.yuv -fr 1 -f 1 -wdt 1024 -hgt 448 -q 47.0 --ConformanceWindowMode=1 --InternalBitDepth=10\n",
                        "VTMEncoderDecoder - DEBUG - removing /dev/shm/vtm_139946580786000/tmp.yuv\n",
                        "VTMEncoderDecoder - DEBUG - reading /dev/shm/vtm_139946580786000/bin for bpp calculation\n",
                        "VTMEncoderDecoder - DEBUG - /home/sampsa/Downloads/VVCSoftware_VTM-VTM-12.0/bin/DecoderAppStaticd -b /dev/shm/vtm_139946580786000/bin -o /dev/shm/vtm_139946580786000/rec.yuv\n",
                        "VTMEncoderDecoder - DEBUG - reading /dev/shm/vtm_139946580786000/rec.yuv\n",
                        "VTMEncoderDecoder - DEBUG - removing /dev/shm/vtm_139946580786000/rec.yuv\n",
                        "VTMEncoderDecoder - DEBUG - removing /dev/shm/vtm_139946580786000/bin\n",
                        "VTMEncoderDecoder - DEBUG - ffmpeg -y -hide_banner -loglevel error -f rawvideo -pix_fmt yuv420p10le -s 1024x448 -src_range 1 -i pipe: -frames 1 -pix_fmt rgb24 -f apng pipe:\n",
                        "VTMEncoderDecoder - DEBUG - ffmpeg -y -hide_banner -loglevel error -i pipe: -vf \"crop=1024:447\" -f apng pipe:\n",
                        "VTMEncoderDecoder - DEBUG - input & output sizes: (447, 1024, 3) (447, 1024, 3). bps = 0.0352873322147651\n",
                        "/home/sampsa/silo/interdigital/venv_all/lib/python3.8/site-packages/torch/_tensor.py:575: UserWarning: floor_divide is deprecated, and will be removed in a future version of pytorch. It currently rounds toward 0 (like the 'trunc' function NOT 'floor'). This results in incorrect rounding for negative values.\n",
                        "To keep the current behavior, use torch.div(a, b, rounding_mode='trunc'), or for actual floor division, use torch.div(a, b, rounding_mode='floor'). (Triggered internally at  ../aten/src/ATen/native/BinaryOps.cpp:467.)\n",
                        "  return torch.floor_divide(self, other)\n",
                        " 100% |███████████| 1/1 [1.0m elapsed, 0s remaining, 0.0 samples/s] \n",
                        "Evaluating detections...\n",
                        " 100% |███████████| 1/1 [10.4ms elapsed, 0s remaining, 96.1 samples/s] \n",
                        "\n",
                        "HAVE A NICE DAY!\n",
                        "\n",
                        "VTMEncoderDecoder - DEBUG - removing /dev/shm/vtm_139946580786000\n"
                    ]
                }
            ],
            "source": [
                "! compressai-vision detectron2_eval --y --debug \\\n",
                "--name=mpeg_vcm-detection-dummy \\\n",
                "--model=COCO-Detection/faster_rcnn_X_101_32x8d_FPN_3x.yaml \\\n",
                "--vtm --vtm_dir=$path --qpars=47 --output=vtm_test.json"
            ]
        },
        {
            "cell_type": "code",
            "execution_count": 4,
            "id": "3b7fda44",
            "metadata": {},
            "outputs": [
                {
                    "name": "stdout",
                    "output_type": "stream",
                    "text": [
                        "WARNING: using VTM default config file /home/sampsa/silo/interdigital/CompressAI-Vision/compressai_vision/data/encoder_intra_vtm_1.cfg\n",
                        "\n",
                        "Using dataset          : mpeg_vcm-detection-dummy\n",
                        "Number of samples      : 1\n",
                        "Torch device           : cpu\n",
                        "Detectron2 model       : COCO-Detection/faster_rcnn_X_101_32x8d_FPN_3x.yaml\n",
                        "Model was trained with : coco_2017_train\n",
                        "Using VTM               \n",
                        "WARNING: VTM USES CACHING INTO /tmp/kokkelis\n",
                        "Quality parameters      : [47.0]\n",
                        "Peek model classes     :\n",
                        "['airplane', 'apple', 'backpack', 'banana', 'baseball bat'] ...\n",
                        "Peek dataset classes   :\n",
                        "['airplane'] ...\n",
                        "instantiating Detectron2 predictor\n",
                        "[Checkpointer] Loading from https://dl.fbaipublicfiles.com/detectron2/COCO-Detection/faster_rcnn_X_101_32x8d_FPN_3x/139173657/model_final_68b088.pkl ...\n",
                        "URL https://dl.fbaipublicfiles.com/detectron2/COCO-Detection/faster_rcnn_X_101_32x8d_FPN_3x/139173657/model_final_68b088.pkl cached in /home/sampsa/.torch/iopath_cache/detectron2/COCO-Detection/faster_rcnn_X_101_32x8d_FPN_3x/139173657/model_final_68b088.pkl\n",
                        "Reading a file from 'Detectron2 Model Zoo'\n",
                        "\n",
                        "QUALITY PARAMETER 47.0\n",
                        "VTMEncoderDecoder - WARNING - folder /tmp/kokkelis/47.0 exists already\n",
                        "folder /tmp/kokkelis/47.0 exists already\n",
                        "encoderApp:   /home/sampsa/Downloads/VVCSoftware_VTM-VTM-12.0/bin/EncoderAppStaticd\n",
                        "decoderApp:   /home/sampsa/Downloads/VVCSoftware_VTM-VTM-12.0/bin/DecoderAppStaticd\n",
                        "ffmpeg    :   ffmpeg\n",
                        "qp        :   47.0\n",
                        "path      :   /tmp/kokkelis/47.0\n",
                        "CACHING ENABLED\n",
                        "\n",
                        "VTMEncoderDecoder - DEBUG - ffmpeg -y -hide_banner -loglevel error -i pipe: -vf \"pad=ceil(iw/2)*2:ceil(ih/2)*2\" -f apng pipe:\n",
                        "VTMEncoderDecoder - DEBUG - reading /tmp/kokkelis/47.0/bin_0001eeaf4aed83f9 for bpp calculation\n",
                        "VTMEncoderDecoder - DEBUG - /home/sampsa/Downloads/VVCSoftware_VTM-VTM-12.0/bin/DecoderAppStaticd -b /tmp/kokkelis/47.0/bin_0001eeaf4aed83f9 -o /tmp/kokkelis/47.0/rec.yuv\n",
                        "VTMEncoderDecoder - DEBUG - reading /tmp/kokkelis/47.0/rec.yuv\n",
                        "VTMEncoderDecoder - DEBUG - removing /tmp/kokkelis/47.0/rec.yuv\n",
                        "VTMEncoderDecoder - DEBUG - ffmpeg -y -hide_banner -loglevel error -f rawvideo -pix_fmt yuv420p10le -s 1024x448 -src_range 1 -i pipe: -frames 1 -pix_fmt rgb24 -f apng pipe:\n",
                        "VTMEncoderDecoder - DEBUG - ffmpeg -y -hide_banner -loglevel error -i pipe: -vf \"crop=1024:447\" -f apng pipe:\n",
                        "VTMEncoderDecoder - DEBUG - input & output sizes: (447, 1024, 3) (447, 1024, 3). bps = 0.0352873322147651\n",
                        "/home/sampsa/silo/interdigital/venv_all/lib/python3.8/site-packages/torch/_tensor.py:575: UserWarning: floor_divide is deprecated, and will be removed in a future version of pytorch. It currently rounds toward 0 (like the 'trunc' function NOT 'floor'). This results in incorrect rounding for negative values.\n",
                        "To keep the current behavior, use torch.div(a, b, rounding_mode='trunc'), or for actual floor division, use torch.div(a, b, rounding_mode='floor'). (Triggered internally at  ../aten/src/ATen/native/BinaryOps.cpp:467.)\n",
                        "  return torch.floor_divide(self, other)\n",
                        " 100% |███████████| 1/1 [5.8s elapsed, 0s remaining, 0.2 samples/s] \n",
                        "Evaluating detections...\n",
                        " 100% |███████████| 1/1 [9.6ms elapsed, 0s remaining, 104.4 samples/s] \n",
                        "\n",
                        "HAVE A NICE DAY!\n",
                        "\n"
                    ]
                }
            ],
            "source": [
                "! compressai-vision detectron2_eval --y --debug \\\n",
                "--name=mpeg_vcm-detection-dummy \\\n",
                "--model=COCO-Detection/faster_rcnn_X_101_32x8d_FPN_3x.yaml \\\n",
                "--vtm --vtm_dir=$path --qpars=47 --output=vtm_test.json --vtm_cache=/tmp/kokkelis"
            ]
        },
        {
            "cell_type": "code",
            "execution_count": 5,
            "id": "5fe318ac",
            "metadata": {},
            "outputs": [
                {
                    "name": "stdout",
                    "output_type": "stream",
                    "text": [
                        "WARNING: using VTM default config file /home/sampsa/silo/interdigital/CompressAI-Vision/compressai_vision/data/encoder_intra_vtm_1.cfg\n",
                        "\n",
                        "Using dataset          : mpeg_vcm-detection-dummy\n",
                        "Number of samples      : 1\n",
                        "Torch device           : cpu\n",
                        "Detectron2 model       : COCO-Detection/faster_rcnn_X_101_32x8d_FPN_3x.yaml\n",
                        "Model was trained with : coco_2017_train\n",
                        "Using VTM               \n",
                        "WARNING: VTM USES CACHING INTO /tmp/kokkelis\n",
                        "Quality parameters      : [47.0]\n",
                        "Peek model classes     :\n",
                        "['airplane', 'apple', 'backpack', 'banana', 'baseball bat'] ...\n",
                        "Peek dataset classes   :\n",
                        "['airplane'] ...\n",
                        "instantiating Detectron2 predictor\n",
                        "[Checkpointer] Loading from https://dl.fbaipublicfiles.com/detectron2/COCO-Detection/faster_rcnn_X_101_32x8d_FPN_3x/139173657/model_final_68b088.pkl ...\n",
                        "URL https://dl.fbaipublicfiles.com/detectron2/COCO-Detection/faster_rcnn_X_101_32x8d_FPN_3x/139173657/model_final_68b088.pkl cached in /home/sampsa/.torch/iopath_cache/detectron2/COCO-Detection/faster_rcnn_X_101_32x8d_FPN_3x/139173657/model_final_68b088.pkl\n",
                        "Reading a file from 'Detectron2 Model Zoo'\n",
                        "\n",
                        "QUALITY PARAMETER 47.0\n",
                        "VTMEncoderDecoder - WARNING - folder /tmp/kokkelis/47.0 exists already\n",
                        "folder /tmp/kokkelis/47.0 exists already\n",
                        "encoderApp:   /home/sampsa/Downloads/VVCSoftware_VTM-VTM-12.0/bin/EncoderAppStaticd\n",
                        "decoderApp:   /home/sampsa/Downloads/VVCSoftware_VTM-VTM-12.0/bin/DecoderAppStaticd\n",
                        "ffmpeg    :   ffmpeg\n",
                        "qp        :   47.0\n",
                        "path      :   /tmp/kokkelis/47.0\n",
                        "CACHING ENABLED\n",
                        "\n",
                        "VTMEncoderDecoder - DEBUG - ffmpeg -y -hide_banner -loglevel error -i pipe: -vf \"pad=ceil(iw/2)*2:ceil(ih/2)*2\" -f apng pipe:\n",
                        "VTMEncoderDecoder - DEBUG - reading /tmp/kokkelis/47.0/bin_0001eeaf4aed83f9 for bpp calculation\n",
                        "VTMEncoderDecoder - DEBUG - /home/sampsa/Downloads/VVCSoftware_VTM-VTM-12.0/bin/DecoderAppStaticd -b /tmp/kokkelis/47.0/bin_0001eeaf4aed83f9 -o /tmp/kokkelis/47.0/rec.yuv\n",
                        "VTMEncoderDecoder - DEBUG - reading /tmp/kokkelis/47.0/rec.yuv\n",
                        "VTMEncoderDecoder - DEBUG - removing /tmp/kokkelis/47.0/rec.yuv\n",
                        "VTMEncoderDecoder - DEBUG - ffmpeg -y -hide_banner -loglevel error -f rawvideo -pix_fmt yuv420p10le -s 1024x448 -src_range 1 -i pipe: -frames 1 -pix_fmt rgb24 -f apng pipe:\n",
                        "VTMEncoderDecoder - DEBUG - ffmpeg -y -hide_banner -loglevel error -i pipe: -vf \"crop=1024:447\" -f apng pipe:\n",
                        "VTMEncoderDecoder - DEBUG - input & output sizes: (447, 1024, 3) (447, 1024, 3). bps = 0.0352873322147651\n",
                        "/home/sampsa/silo/interdigital/venv_all/lib/python3.8/site-packages/torch/_tensor.py:575: UserWarning: floor_divide is deprecated, and will be removed in a future version of pytorch. It currently rounds toward 0 (like the 'trunc' function NOT 'floor'). This results in incorrect rounding for negative values.\n",
                        "To keep the current behavior, use torch.div(a, b, rounding_mode='trunc'), or for actual floor division, use torch.div(a, b, rounding_mode='floor'). (Triggered internally at  ../aten/src/ATen/native/BinaryOps.cpp:467.)\n",
                        "  return torch.floor_divide(self, other)\n",
                        " 100% |███████████| 1/1 [5.8s elapsed, 0s remaining, 0.2 samples/s] \n",
                        "Evaluating detections...\n",
                        " 100% |███████████| 1/1 [10.4ms elapsed, 0s remaining, 96.2 samples/s] \n",
                        "\n",
                        "HAVE A NICE DAY!\n",
                        "\n"
                    ]
                }
            ],
            "source": [
                "! compressai-vision detectron2_eval --y --debug \\\n",
                "--name=mpeg_vcm-detection-dummy \\\n",
                "--model=COCO-Detection/faster_rcnn_X_101_32x8d_FPN_3x.yaml \\\n",
                "--vtm --vtm_dir=$path --qpars=47 --output=vtm_test.json --vtm_cache=/tmp/kokkelis"
            ]
        },
        {
            "cell_type": "code",
            "execution_count": null,
            "id": "1fba9561",
            "metadata": {},
            "outputs": [],
            "source": [
                "# cache needs to be removed manually.  be carefull\n",
                "# !rm -rf /tmp/kokkelis/47.0"
            ]
        }
    ],
    "metadata": {
        "kernelspec": {
            "display_name": "Python 3",
            "language": "python",
            "name": "python3"
        },
        "language_info": {
            "codemirror_mode": {
                "name": "ipython",
                "version": 3
            },
            "file_extension": ".py",
            "mimetype": "text/x-python",
            "name": "python",
            "nbconvert_exporter": "python",
            "pygments_lexer": "ipython3",
            "version": "3.8.10"
        }
    },
    "nbformat": 4,
    "nbformat_minor": 5
}