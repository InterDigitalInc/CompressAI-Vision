{
 "cells": [
  {
   "cell_type": "code",
   "execution_count": 20,
   "id": "c2f6c5e9",
   "metadata": {},
   "outputs": [
    {
     "name": "stderr",
     "output_type": "stream",
     "text": [
      "/tmp/ipykernel_16288/3813857106.py:5: DeprecationWarning: Importing display from IPython.core.display is deprecated since IPython 7.14, please import from IPython display\n",
      "  from IPython.core.display import display, HTML, Markdown\n"
     ]
    },
    {
     "data": {
      "text/html": [
       "<style>.container { width:100% !important; }</style>"
      ],
      "text/plain": [
       "<IPython.core.display.HTML object>"
      ]
     },
     "metadata": {},
     "output_type": "display_data"
    }
   ],
   "source": [
    "# use these magic spells to update your classes methods on-the-fly as you edit them:\n",
    "%reload_ext autoreload\n",
    "%autoreload 2\n",
    "from pprint import pprint\n",
    "from IPython.core.display import display, HTML, Markdown\n",
    "import ipywidgets as widgets\n",
    "# %run includeme.ipynb # include a notebook from this same directory\n",
    "display(HTML(\"<style>.container { width:100% !important; }</style>\"))"
   ]
  },
  {
   "cell_type": "code",
   "execution_count": 2,
   "id": "a2c1cfde",
   "metadata": {},
   "outputs": [],
   "source": [
    "import os, logging\n",
    "# from PIL import Image\n",
    "import cv2"
   ]
  },
  {
   "cell_type": "code",
   "execution_count": 3,
   "id": "6f7348c7",
   "metadata": {},
   "outputs": [],
   "source": [
    "import fiftyone as fo"
   ]
  },
  {
   "cell_type": "code",
   "execution_count": 4,
   "id": "7cd2493d",
   "metadata": {},
   "outputs": [],
   "source": [
    "from compressai_vision.tools import getDataFile, quickLog\n",
    "from compressai_vision.evaluation.pipeline import VTMEncoderDecoder"
   ]
  },
  {
   "cell_type": "code",
   "execution_count": 19,
   "id": "dc8888fe",
   "metadata": {},
   "outputs": [
    {
     "name": "stdout",
     "output_type": "stream",
     "text": [
      "fiftyone: 0.16.5\n"
     ]
    }
   ],
   "source": [
    "# import torch, detectron2; print(\"torch:\", torch.__version__, \"/ cuda:\", torch.version.cuda, \"/ detectron2:\", detectron2.__version__)\n",
    "import fiftyone; print(\"fiftyone:\", fiftyone.__version__)"
   ]
  },
  {
   "cell_type": "code",
   "execution_count": 5,
   "id": "32c0b12e",
   "metadata": {},
   "outputs": [
    {
     "data": {
      "text/plain": [
       "<Logger VTMEncoderDecoder (DEBUG)>"
      ]
     },
     "execution_count": 5,
     "metadata": {},
     "output_type": "execute_result"
    }
   ],
   "source": [
    "loglev = logging.DEBUG\n",
    "# loglev = logging.INFO\n",
    "quickLog(\"CompressAIEncoderDecoder\", loglev)\n",
    "quickLog(\"VTMEncoderDecoder\", loglev)"
   ]
  },
  {
   "cell_type": "code",
   "execution_count": null,
   "id": "d37e1338",
   "metadata": {},
   "outputs": [],
   "source": [
    "path=\"/home/sampsa/Downloads/VVCSoftware_VTM-VTM-12.0/bin\""
   ]
  },
  {
   "cell_type": "code",
   "execution_count": 6,
   "id": "b2b7926e",
   "metadata": {},
   "outputs": [],
   "source": [
    "encapp=os.path.join(path,\"EncoderAppStaticd\")\n",
    "decapp=os.path.join(path,\"DecoderAppStaticd\")\n",
    "vtm_cfg = getDataFile(\"encoder_intra_vtm_1.cfg\")        "
   ]
  },
  {
   "cell_type": "code",
   "execution_count": 7,
   "id": "1a653cb2",
   "metadata": {},
   "outputs": [],
   "source": [
    "enc_dec = VTMEncoderDecoder(\n",
    "    encoderApp=encapp,\n",
    "    decoderApp=decapp,\n",
    "    ffmpeg=\"ffmpeg\",\n",
    "    qp=47,\n",
    "    cache=\"/tmp/kokkelis\",\n",
    "    vtm_cfg=vtm_cfg\n",
    ")"
   ]
  },
  {
   "cell_type": "code",
   "execution_count": 8,
   "id": "23f5fddc",
   "metadata": {},
   "outputs": [
    {
     "name": "stdout",
     "output_type": "stream",
     "text": [
      "encoderApp:   /home/sampsa/Downloads/VVCSoftware_VTM-VTM-12.0/bin/EncoderAppStaticd\n",
      "decoderApp:   /home/sampsa/Downloads/VVCSoftware_VTM-VTM-12.0/bin/DecoderAppStaticd\n",
      "ffmpeg    :   ffmpeg\n",
      "qp        :   47\n",
      "path      :   /tmp/kokkelis/47\n",
      "CACHING ENABLED\n",
      "\n"
     ]
    }
   ],
   "source": [
    "print(enc_dec)"
   ]
  },
  {
   "cell_type": "code",
   "execution_count": 9,
   "id": "e608fcea",
   "metadata": {},
   "outputs": [
    {
     "name": "stdout",
     "output_type": "stream",
     "text": [
      "/tmp/kokkelis/47\n"
     ]
    }
   ],
   "source": [
    "cache_dir=enc_dec.getCacheDir()\n",
    "print(cache_dir)"
   ]
  },
  {
   "cell_type": "code",
   "execution_count": 10,
   "id": "a31c6e37",
   "metadata": {},
   "outputs": [],
   "source": [
    "!ls $cache_dir"
   ]
  },
  {
   "cell_type": "code",
   "execution_count": 11,
   "id": "4ac912aa",
   "metadata": {},
   "outputs": [
    {
     "data": {
      "text/plain": [
       "['nokia-50-test',\n",
       " 'nokia-detection',\n",
       " 'nokia-detection-dummy',\n",
       " 'nokia-dummy',\n",
       " 'nokia-exported',\n",
       " 'nokia-exported-1',\n",
       " 'nokia-exported-dummy',\n",
       " 'nokia-seg-exported',\n",
       " 'nokia-segmentation',\n",
       " 'open-images-v6-validation']"
      ]
     },
     "execution_count": 11,
     "metadata": {},
     "output_type": "execute_result"
    }
   ],
   "source": [
    "fo.list_datasets()"
   ]
  },
  {
   "cell_type": "code",
   "execution_count": 12,
   "id": "c20eb31b",
   "metadata": {},
   "outputs": [
    {
     "name": "stdout",
     "output_type": "stream",
     "text": [
      "/home/sampsa/fiftyone/nokia-exported/data/0001eeaf4aed83f9.jpg\n",
      "0001eeaf4aed83f9.jpg\n",
      "0001eeaf4aed83f9\n"
     ]
    }
   ],
   "source": [
    "ds = fo.load_dataset(\"nokia-exported-dummy\")\n",
    "sample = ds.first()\n",
    "fname=sample.filepath\n",
    "tag=sample.filename.split(\".\")[0]\n",
    "print(fname)\n",
    "print(sample.filename)\n",
    "print(tag)"
   ]
  },
  {
   "cell_type": "code",
   "execution_count": 13,
   "id": "797ed177",
   "metadata": {},
   "outputs": [],
   "source": [
    "img=cv2.imread(fname)"
   ]
  },
  {
   "cell_type": "code",
   "execution_count": 14,
   "id": "c2b4a197",
   "metadata": {},
   "outputs": [
    {
     "name": "stderr",
     "output_type": "stream",
     "text": [
      "VTMEncoderDecoder - DEBUG - ffmpeg -y -hide_banner -loglevel error -i pipe: -vf \"pad=ceil(iw/2)*2:ceil(ih/2)*2\" -f apng pipe:\n",
      "VTMEncoderDecoder - DEBUG - ffmpeg -y -hide_banner -loglevel error -i pipe: -f rawvideo -pix_fmt yuv420p -dst_range 1 pipe:\n",
      "VTMEncoderDecoder - DEBUG - writing /tmp/kokkelis/47/tmp.yuv\n",
      "VTMEncoderDecoder - DEBUG - /home/sampsa/Downloads/VVCSoftware_VTM-VTM-12.0/bin/EncoderAppStaticd -c /home/sampsa/silo/interdigital/CompressAI-Vision/compressai_vision/data/encoder_intra_vtm_1.cfg -i /tmp/kokkelis/47/tmp.yuv -b /tmp/kokkelis/47/bin_0001eeaf4aed83f9 -o /tmp/kokkelis/47/nada.yuv -fr 1 -f 1 -wdt 1024 -hgt 448 -q 47 --ConformanceWindowMode=1 --InternalBitDepth=10\n",
      "VTMEncoderDecoder - DEBUG - removing /tmp/kokkelis/47/tmp.yuv\n",
      "VTMEncoderDecoder - DEBUG - reading /tmp/kokkelis/47/bin_0001eeaf4aed83f9 for bpp calculation\n",
      "VTMEncoderDecoder - DEBUG - /home/sampsa/Downloads/VVCSoftware_VTM-VTM-12.0/bin/DecoderAppStaticd -b /tmp/kokkelis/47/bin_0001eeaf4aed83f9 -o /tmp/kokkelis/47/rec.yuv\n",
      "VTMEncoderDecoder - DEBUG - reading /tmp/kokkelis/47/rec.yuv\n",
      "VTMEncoderDecoder - DEBUG - removing /tmp/kokkelis/47/rec.yuv\n",
      "VTMEncoderDecoder - DEBUG - ffmpeg -y -hide_banner -loglevel error -f rawvideo -pix_fmt yuv420p10le -s 1024x448 -src_range 1 -i pipe: -frames 1 -pix_fmt rgb24 -f apng pipe:\n",
      "VTMEncoderDecoder - DEBUG - ffmpeg -y -hide_banner -loglevel error -i pipe: -vf \"crop=1024:447\" -f apng pipe:\n",
      "VTMEncoderDecoder - DEBUG - input & output sizes: (447, 1024, 3) (447, 1024, 3). bps = 0.0352873322147651\n"
     ]
    }
   ],
   "source": [
    "bpp, img_hat = enc_dec.BGR(img, tag=tag)"
   ]
  },
  {
   "cell_type": "code",
   "execution_count": 15,
   "id": "05981913",
   "metadata": {},
   "outputs": [
    {
     "name": "stdout",
     "output_type": "stream",
     "text": [
      "contents of /tmp/kokkelis/47\n",
      "     /tmp/kokkelis/47/bin_0001eeaf4aed83f9\n",
      "     /tmp/kokkelis/47/nada.yuv\n"
     ]
    }
   ],
   "source": [
    "enc_dec.dump()"
   ]
  },
  {
   "cell_type": "code",
   "execution_count": 16,
   "id": "7b872e04",
   "metadata": {},
   "outputs": [
    {
     "name": "stderr",
     "output_type": "stream",
     "text": [
      "VTMEncoderDecoder - DEBUG - ffmpeg -y -hide_banner -loglevel error -i pipe: -vf \"pad=ceil(iw/2)*2:ceil(ih/2)*2\" -f apng pipe:\n",
      "VTMEncoderDecoder - DEBUG - reading /tmp/kokkelis/47/bin_0001eeaf4aed83f9 for bpp calculation\n",
      "VTMEncoderDecoder - DEBUG - /home/sampsa/Downloads/VVCSoftware_VTM-VTM-12.0/bin/DecoderAppStaticd -b /tmp/kokkelis/47/bin_0001eeaf4aed83f9 -o /tmp/kokkelis/47/rec.yuv\n",
      "VTMEncoderDecoder - DEBUG - reading /tmp/kokkelis/47/rec.yuv\n",
      "VTMEncoderDecoder - DEBUG - removing /tmp/kokkelis/47/rec.yuv\n",
      "VTMEncoderDecoder - DEBUG - ffmpeg -y -hide_banner -loglevel error -f rawvideo -pix_fmt yuv420p10le -s 1024x448 -src_range 1 -i pipe: -frames 1 -pix_fmt rgb24 -f apng pipe:\n",
      "VTMEncoderDecoder - DEBUG - ffmpeg -y -hide_banner -loglevel error -i pipe: -vf \"crop=1024:447\" -f apng pipe:\n",
      "VTMEncoderDecoder - DEBUG - input & output sizes: (447, 1024, 3) (447, 1024, 3). bps = 0.0352873322147651\n"
     ]
    }
   ],
   "source": [
    "bpp, img_hat = enc_dec.BGR(img, tag=tag)"
   ]
  },
  {
   "cell_type": "code",
   "execution_count": 17,
   "id": "a178d94b",
   "metadata": {},
   "outputs": [
    {
     "name": "stdout",
     "output_type": "stream",
     "text": [
      "/tmp/kokkelis/47\r\n"
     ]
    }
   ],
   "source": [
    "!echo $cache_dir\n",
    "# cache needs to be removed manually.  be carefull\n",
    "# !rm -rf $cache_dir"
   ]
  },
  {
   "cell_type": "code",
   "execution_count": 18,
   "id": "159ee023",
   "metadata": {},
   "outputs": [
    {
     "name": "stdout",
     "output_type": "stream",
     "text": [
      "contents of /tmp/kokkelis/47\n",
      "     /tmp/kokkelis/47/bin_0001eeaf4aed83f9\n",
      "     /tmp/kokkelis/47/nada.yuv\n"
     ]
    }
   ],
   "source": [
    "enc_dec.dump()"
   ]
  },
  {
   "cell_type": "code",
   "execution_count": null,
   "id": "ed3fa55c",
   "metadata": {},
   "outputs": [],
   "source": []
  }
 ],
 "metadata": {
  "kernelspec": {
   "display_name": "Python 3",
   "language": "python",
   "name": "python3"
  },
  "language_info": {
   "codemirror_mode": {
    "name": "ipython",
    "version": 3
   },
   "file_extension": ".py",
   "mimetype": "text/x-python",
   "name": "python",
   "nbconvert_exporter": "python",
   "pygments_lexer": "ipython3",
   "version": "3.8.10"
  }
 },
 "nbformat": 4,
 "nbformat_minor": 5
}
