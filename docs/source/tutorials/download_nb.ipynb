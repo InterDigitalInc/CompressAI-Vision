{
 "cells": [
  {
   "cell_type": "code",
   "execution_count": 3,
   "id": "bc06938b",
   "metadata": {
    "tags": [
     "remove_cell"
    ]
   },
   "outputs": [
    {
     "name": "stderr",
     "output_type": "stream",
     "text": [
      "/tmp/ipykernel_19959/1348678174.py:6: DeprecationWarning: Importing display from IPython.core.display is deprecated since IPython 7.14, please import from IPython display\n",
      "  from IPython.core.display import display, HTML, Markdown\n"
     ]
    },
    {
     "data": {
      "text/html": [
       "<style>.container { width:100% !important; }</style>"
      ],
      "text/plain": [
       "<IPython.core.display.HTML object>"
      ]
     },
     "metadata": {},
     "output_type": "display_data"
    }
   ],
   "source": [
    "# https://nbconvert.readthedocs.io/en/latest/removing_cells.html\n",
    "# use these magic spells to update your classes methods on-the-fly as you edit them:\n",
    "%reload_ext autoreload\n",
    "%autoreload 2\n",
    "from pprint import pprint\n",
    "from IPython.core.display import display, HTML, Markdown\n",
    "import ipywidgets as widgets\n",
    "# %run includeme.ipynb # include a notebook from this same directory\n",
    "display(HTML(\"<style>.container { width:100% !important; }</style>\"))"
   ]
  },
  {
   "cell_type": "code",
   "execution_count": 4,
   "id": "4d171492",
   "metadata": {},
   "outputs": [],
   "source": [
    "# common libs\n",
    "import math, os, io, json, cv2, random, logging\n",
    "import numpy as np\n",
    "# images\n",
    "from PIL import Image\n",
    "import matplotlib.pyplot as plt"
   ]
  },
  {
   "cell_type": "code",
   "execution_count": 5,
   "id": "f386b4c6",
   "metadata": {},
   "outputs": [],
   "source": [
    "# fiftyone\n",
    "import fiftyone as fo\n",
    "import fiftyone.zoo as foz"
   ]
  },
  {
   "cell_type": "code",
   "execution_count": 6,
   "id": "dc9d610a",
   "metadata": {},
   "outputs": [],
   "source": [
    "# CompressAI-Vision\n",
    "from compressai_vision.conversion import imageIdFileList"
   ]
  },
  {
   "cell_type": "code",
   "execution_count": 7,
   "id": "cb0e19a8",
   "metadata": {},
   "outputs": [
    {
     "name": "stdout",
     "output_type": "stream",
     "text": [
      "your home path is /home/sampsa\n",
      "fiftyone dowloads data to /home/sampsa/fiftyone\n"
     ]
    }
   ],
   "source": [
    "homie=os.path.expanduser(\"~\")\n",
    "print(\"your home path is\", homie)\n",
    "fodir=os.path.join(homie,'fiftyone')\n",
    "print(\"fiftyone dowloads data to\", fodir)\n",
    "try:\n",
    "    os.mkdir(fodir)\n",
    "except FileExistsError:\n",
    "    pass"
   ]
  },
  {
   "cell_type": "markdown",
   "id": "72f304c3",
   "metadata": {},
   "source": [
    "List all datasets (already) registered to fiftyone"
   ]
  },
  {
   "cell_type": "code",
   "execution_count": null,
   "id": "f8765e0e",
   "metadata": {},
   "outputs": [],
   "source": [
    "fo.list_datasets()"
   ]
  },
  {
   "cell_type": "markdown",
   "id": "9abc17bb",
   "metadata": {},
   "source": [
    "Create a list of necessary images\n",
    "\n",
    "MPEG VCM working group and Nokia provides you with files listing the necessary images for detection and segmentation validation, namely ``detection_validation_input_5k.lst`` and ``segmentation_validation_input_5k.lst``.  Let's combine those two files into a list:"
   ]
  },
  {
   "cell_type": "code",
   "execution_count": 8,
   "id": "6b2866d7",
   "metadata": {},
   "outputs": [
    {
     "name": "stdout",
     "output_type": "stream",
     "text": [
      "8189\n"
     ]
    }
   ],
   "source": [
    "# TODO: edit according to your paths\n",
    "path=\"/home/sampsa/silo/interdigital/siloai-playground/sampsa/nokia/\"\n",
    "det_lst=os.path.join(path, \"data5K/detection_validation_input_5k.lst\") # the images used for detection validation\n",
    "seg_lst=os.path.join(path, \"data5K_seg/segmentation_validation_input_5k.lst\") # the images used for segmentation validation\n",
    "assert(os.path.exists(det_lst)), \"missing file \"+det_lst\n",
    "assert(os.path.exists(seg_lst)), \"missing file \"+seg_lst\n",
    "lis=imageIdFileList(det_lst, seg_lst)\n",
    "print(len(lis))"
   ]
  },
  {
   "cell_type": "markdown",
   "id": "c9f4c3f8",
   "metadata": {},
   "source": [
    "Tell fiftyone to load the correct subset of OpenImageV6 dataset:"
   ]
  },
  {
   "cell_type": "code",
   "execution_count": 9,
   "id": "dea5e9ff",
   "metadata": {},
   "outputs": [
    {
     "name": "stdout",
     "output_type": "stream",
     "text": [
      "Downloading split 'validation' to '/home/sampsa/fiftyone/open-images-v6/validation' if necessary\n",
      "Necessary images already downloaded\n",
      "Existing download of split 'validation' is sufficient\n",
      "Loading existing dataset 'open-images-v6-validation'. To reload from disk, either delete the existing dataset or provide a custom `dataset_name` to use\n"
     ]
    }
   ],
   "source": [
    "# https://voxel51.com/docs/fiftyone/user_guide/dataset_zoo/datasets.html#dataset-zoo-open-images-v6\n",
    "dataset = foz.load_zoo_dataset(\n",
    "    \"open-images-v6\",\n",
    "    split=\"validation\",\n",
    "    # label_types=(\"detections\", \"classifications\", \"relationships\", \"segmentations\") # this is the default\n",
    "    image_ids=lis\n",
    ")"
   ]
  },
  {
   "cell_type": "code",
   "execution_count": 10,
   "id": "a38e5a34",
   "metadata": {},
   "outputs": [
    {
     "data": {
      "text/plain": [
       "Name:        open-images-v6-validation\n",
       "Media type:  image\n",
       "Num samples: 8189\n",
       "Persistent:  True\n",
       "Tags:        []\n",
       "Sample fields:\n",
       "    id:              fiftyone.core.fields.ObjectIdField\n",
       "    filepath:        fiftyone.core.fields.StringField\n",
       "    tags:            fiftyone.core.fields.ListField(fiftyone.core.fields.StringField)\n",
       "    metadata:        fiftyone.core.fields.EmbeddedDocumentField(fiftyone.core.metadata.ImageMetadata)\n",
       "    positive_labels: fiftyone.core.fields.EmbeddedDocumentField(fiftyone.core.labels.Classifications)\n",
       "    negative_labels: fiftyone.core.fields.EmbeddedDocumentField(fiftyone.core.labels.Classifications)\n",
       "    detections:      fiftyone.core.fields.EmbeddedDocumentField(fiftyone.core.labels.Detections)\n",
       "    open_images_id:  fiftyone.core.fields.StringField\n",
       "    relationships:   fiftyone.core.fields.EmbeddedDocumentField(fiftyone.core.labels.Detections)\n",
       "    segmentations:   fiftyone.core.fields.EmbeddedDocumentField(fiftyone.core.labels.Detections)"
      ]
     },
     "execution_count": 10,
     "metadata": {},
     "output_type": "execute_result"
    }
   ],
   "source": [
    "# take a look at the dataset\n",
    "dataset"
   ]
  },
  {
   "cell_type": "code",
   "execution_count": 11,
   "id": "3822fdfb",
   "metadata": {},
   "outputs": [],
   "source": [
    "# make dataset persistent .. next time you import fiftyone it's still available (loaded into the mongodb that's running in the background)\n",
    "dataset.persistent=True"
   ]
  },
  {
   "cell_type": "code",
   "execution_count": 12,
   "id": "d826993a",
   "metadata": {},
   "outputs": [],
   "source": [
    "# next time you need it, load it with:\n",
    "dataset = fo.load_dataset(\"open-images-v6-validation\")"
   ]
  },
  {
   "cell_type": "code",
   "execution_count": 13,
   "id": "32f893d2",
   "metadata": {},
   "outputs": [
    {
     "data": {
      "text/plain": [
       "<Sample: {\n",
       "    'id': '62f17b8486a5a296ef346d7b',\n",
       "    'media_type': 'image',\n",
       "    'filepath': '/home/sampsa/fiftyone/open-images-v6/validation/data/0001eeaf4aed83f9.jpg',\n",
       "    'tags': BaseList(['validation']),\n",
       "    'metadata': None,\n",
       "    'positive_labels': <Classifications: {\n",
       "        'classifications': BaseList([\n",
       "            <Classification: {\n",
       "                'id': '62f17b8486a5a296ef346d79',\n",
       "                'tags': BaseList([]),\n",
       "                'label': 'Airplane',\n",
       "                'confidence': 1.0,\n",
       "                'logits': None,\n",
       "            }>,\n",
       "        ]),\n",
       "        'logits': None,\n",
       "    }>,\n",
       "    'negative_labels': <Classifications: {'classifications': BaseList([]), 'logits': None}>,\n",
       "    'detections': <Detections: {\n",
       "        'detections': BaseList([\n",
       "            <Detection: {\n",
       "                'id': '62f17b8486a5a296ef346d7a',\n",
       "                'attributes': BaseDict({}),\n",
       "                'tags': BaseList([]),\n",
       "                'label': 'Airplane',\n",
       "                'bounding_box': BaseList([\n",
       "                    0.022673031,\n",
       "                    0.07103825,\n",
       "                    0.9415274690000001,\n",
       "                    0.72950822,\n",
       "                ]),\n",
       "                'mask': None,\n",
       "                'confidence': None,\n",
       "                'index': None,\n",
       "                'IsOccluded': False,\n",
       "                'IsTruncated': False,\n",
       "                'IsGroupOf': False,\n",
       "                'IsDepiction': False,\n",
       "                'IsInside': False,\n",
       "            }>,\n",
       "        ]),\n",
       "    }>,\n",
       "    'open_images_id': '0001eeaf4aed83f9',\n",
       "    'relationships': None,\n",
       "    'segmentations': None,\n",
       "}>"
      ]
     },
     "execution_count": 13,
     "metadata": {},
     "output_type": "execute_result"
    }
   ],
   "source": [
    "# peek at first sample\n",
    "dataset.first()"
   ]
  },
  {
   "cell_type": "markdown",
   "id": "c18fa7c7",
   "metadata": {},
   "source": [
    "Let's take a look where fiftyone downloaded the files"
   ]
  },
  {
   "cell_type": "code",
   "execution_count": 14,
   "id": "a0cd90dd",
   "metadata": {},
   "outputs": [
    {
     "name": "stdout",
     "output_type": "stream",
     "text": [
      "contents of /home/sampsa/fiftyone/open-images-v6 :\n",
      "/home/sampsa/fiftyone/open-images-v6\r\n",
      "├── info.json\r\n",
      "└── validation\r\n",
      "    ├── data [8189 entries exceeds filelimit, not opening dir]\r\n",
      "    ├── labels\r\n",
      "    │   ├── classifications.csv\r\n",
      "    │   ├── detections.csv\r\n",
      "    │   ├── masks [16 entries exceeds filelimit, not opening dir]\r\n",
      "    │   ├── relationships.csv\r\n",
      "    │   └── segmentations.csv\r\n",
      "    └── metadata\r\n",
      "        ├── attributes.csv\r\n",
      "        ├── classes.csv\r\n",
      "        ├── hierarchy.json\r\n",
      "        ├── image_ids.csv\r\n",
      "        └── segmentation_classes.csv\r\n",
      "\r\n",
      "5 directories, 10 files\r\n"
     ]
    }
   ],
   "source": [
    "dir_=os.path.join(fodir,\"open-images-v6\")\n",
    "print(\"contents of\", dir_,\":\")\n",
    "!tree --filelimit=10 $dir_ | cat"
   ]
  },
  {
   "cell_type": "code",
   "execution_count": 15,
   "id": "abbf687c",
   "metadata": {},
   "outputs": [],
   "source": [
    "## if you'd like to remove it, do this:\n",
    "## CAREFULL \n",
    "# fo.delete_dataset(\"open-images-v6-validation\")"
   ]
  },
  {
   "cell_type": "markdown",
   "id": "c0dac1b1",
   "metadata": {},
   "source": [
    "visualize the dataset"
   ]
  },
  {
   "cell_type": "code",
   "execution_count": 16,
   "id": "bc9e6a16",
   "metadata": {},
   "outputs": [],
   "source": [
    "## starting the visualization \"app\" is as easy as this:\n",
    "# session = fo.launch_app(dataset)"
   ]
  }
 ],
 "metadata": {
  "celltoolbar": "Tags",
  "kernelspec": {
   "display_name": "Python 3",
   "language": "python",
   "name": "python3"
  },
  "language_info": {
   "codemirror_mode": {
    "name": "ipython",
    "version": 3
   },
   "file_extension": ".py",
   "mimetype": "text/x-python",
   "name": "python",
   "nbconvert_exporter": "python",
   "pygments_lexer": "ipython3",
   "version": "3.8.10"
  }
 },
 "nbformat": 4,
 "nbformat_minor": 5
}
