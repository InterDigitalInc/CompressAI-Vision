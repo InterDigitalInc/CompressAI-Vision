{
 "cells": [
  {
   "cell_type": "code",
   "execution_count": 2,
   "id": "bc06938b",
   "metadata": {
    "tags": [
     "remove_cell"
    ]
   },
   "outputs": [
    {
     "name": "stderr",
     "output_type": "stream",
     "text": [
      "/tmp/ipykernel_19880/1348678174.py:6: DeprecationWarning: Importing display from IPython.core.display is deprecated since IPython 7.14, please import from IPython display\n",
      "  from IPython.core.display import display, HTML, Markdown\n"
     ]
    },
    {
     "data": {
      "text/html": [
       "<style>.container { width:100% !important; }</style>"
      ],
      "text/plain": [
       "<IPython.core.display.HTML object>"
      ]
     },
     "metadata": {},
     "output_type": "display_data"
    }
   ],
   "source": [
    "# https://nbconvert.readthedocs.io/en/latest/removing_cells.html\n",
    "# use these magic spells to update your classes methods on-the-fly as you edit them:\n",
    "%reload_ext autoreload\n",
    "%autoreload 2\n",
    "from pprint import pprint\n",
    "from IPython.core.display import display, HTML, Markdown\n",
    "import ipywidgets as widgets\n",
    "# %run includeme.ipynb # include a notebook from this same directory\n",
    "display(HTML(\"<style>.container { width:100% !important; }</style>\"))"
   ]
  },
  {
   "cell_type": "code",
   "execution_count": 3,
   "id": "4d171492",
   "metadata": {},
   "outputs": [],
   "source": [
    "# common libs\n",
    "import math, os, io, json, cv2, random, logging\n",
    "import numpy as np\n",
    "# images\n",
    "from PIL import Image\n",
    "import matplotlib.pyplot as plt"
   ]
  },
  {
   "cell_type": "code",
   "execution_count": 4,
   "id": "ea9562af",
   "metadata": {},
   "outputs": [
    {
     "name": "stdout",
     "output_type": "stream",
     "text": [
      "your home path is /home/sampsa\n",
      "fiftyone dowloads data to /home/sampsa/fiftyone\n"
     ]
    }
   ],
   "source": [
    "homie=os.path.expanduser(\"~\")\n",
    "print(\"your home path is\", homie)\n",
    "fodir=os.path.join(homie,'fiftyone')\n",
    "print(\"fiftyone dowloads data to\", fodir)\n",
    "try:\n",
    "    os.mkdir(fodir)\n",
    "except FileExistsError:\n",
    "    pass"
   ]
  },
  {
   "cell_type": "code",
   "execution_count": 5,
   "id": "f386b4c6",
   "metadata": {},
   "outputs": [],
   "source": [
    "# fiftyone\n",
    "import fiftyone as fo\n",
    "import fiftyone.zoo as foz"
   ]
  },
  {
   "cell_type": "code",
   "execution_count": 6,
   "id": "f8765e0e",
   "metadata": {},
   "outputs": [],
   "source": [
    "# CompressAI-Vision\n",
    "from compressai_vision.conversion import nokiaBSToOpenImageV6, imageIdFileList"
   ]
  },
  {
   "cell_type": "markdown",
   "id": "38f1313b",
   "metadata": {},
   "source": [
    "We expect that you have downloaded correct images and segmentation masks into open-images-v6 folder:"
   ]
  },
  {
   "cell_type": "code",
   "execution_count": 7,
   "id": "f23dae75",
   "metadata": {},
   "outputs": [
    {
     "name": "stdout",
     "output_type": "stream",
     "text": [
      "contents of /home/sampsa/fiftyone/open-images-v6 :\n",
      "/home/sampsa/fiftyone/open-images-v6\r\n",
      "├── info.json\r\n",
      "└── validation\r\n",
      "    ├── data [8189 entries exceeds filelimit, not opening dir]\r\n",
      "    ├── labels\r\n",
      "    │   ├── classifications.csv\r\n",
      "    │   ├── detections.csv\r\n",
      "    │   ├── masks [16 entries exceeds filelimit, not opening dir]\r\n",
      "    │   ├── relationships.csv\r\n",
      "    │   └── segmentations.csv\r\n",
      "    └── metadata\r\n",
      "        ├── attributes.csv\r\n",
      "        ├── classes.csv\r\n",
      "        ├── hierarchy.json\r\n",
      "        ├── image_ids.csv\r\n",
      "        └── segmentation_classes.csv\r\n",
      "\r\n",
      "5 directories, 10 files\r\n"
     ]
    }
   ],
   "source": [
    "dir_=os.path.join(fodir,\"open-images-v6\")\n",
    "print(\"contents of\", dir_,\":\")\n",
    "!tree --filelimit=10 $dir_ | cat"
   ]
  },
  {
   "cell_type": "markdown",
   "id": "12b85060",
   "metadata": {},
   "source": [
    "So the downloaded images reside in ``~/fiftyone/open-images-v6/data`` and segmentation masks in ``~/fiftyone/open-images-v6/labels/masks``.\n",
    "\n",
    "We are not going to use the default OpenImageV6 annotations: MPEG VCM working group provides us with custom-format annotation files we need to convert into OpenImageV6 format.  For the detector ground truths, these are:\n",
    "```\n",
    "detection_validation_5k_bbox.csv           detection bbox annotations\n",
    "detection_validation_labels_5k.csv         image-level annotations\n",
    "detection_validation_input_5k.lst          list of images used\n",
    "```"
   ]
  },
  {
   "cell_type": "code",
   "execution_count": 8,
   "id": "3e030466",
   "metadata": {},
   "outputs": [],
   "source": [
    "## TODO: DEFINE YOUR PARTICULAR PATHS\n",
    "path_to_nokia_files=\"/home/sampsa/silo/interdigital/siloai-playground/sampsa/nokia/data5K\"\n",
    "path_to_images=os.path.join(fodir,\"open-images-v6/validation/data\")\n",
    "\n",
    "list_file=os.path.join(path_to_nokia_files, \"detection_validation_input_5k.lst\")\n",
    "bbox_csv_file=os.path.join(path_to_nokia_files, \"detection_validation_5k_bbox.csv\")\n",
    "validation_csv_file=os.path.join(path_to_nokia_files, \"detection_validation_labels_5k.csv\")\n",
    "\n",
    "assert(os.path.exists(bbox_csv_file)), \"can't find bbox file\"\n",
    "assert(os.path.exists(validation_csv_file)), \"can't find labels file\"\n",
    "assert(os.path.exists(path_to_images)), \"can't find image directory\""
   ]
  },
  {
   "cell_type": "markdown",
   "id": "0cb9ff3b",
   "metadata": {},
   "source": [
    "Now we convert nokia proprietary format annotation into proper OpenImageV6 format dataset and place it into ``~/fiftyone/nokia-detection``\n",
    "\n",
    "First, remove any previously imported stuff:"
   ]
  },
  {
   "cell_type": "code",
   "execution_count": 9,
   "id": "20e92ea4",
   "metadata": {},
   "outputs": [],
   "source": [
    "!rm -rf ~/fiftyone/nokia-detection"
   ]
  },
  {
   "cell_type": "code",
   "execution_count": 10,
   "id": "5927c6ca",
   "metadata": {},
   "outputs": [],
   "source": [
    "nokiaBSToOpenImageV6(\n",
    "    validation_csv_file=validation_csv_file,\n",
    "    list_file=list_file,\n",
    "    bbox_csv_file=bbox_csv_file,\n",
    "    output_directory=os.path.join(fodir,\"nokia-detection\"),\n",
    "    data_dir=path_to_images\n",
    ")"
   ]
  },
  {
   "cell_type": "markdown",
   "id": "d0c8d20f",
   "metadata": {},
   "source": [
    "let's see what we got:"
   ]
  },
  {
   "cell_type": "code",
   "execution_count": 11,
   "id": "583da2d0",
   "metadata": {},
   "outputs": [
    {
     "name": "stdout",
     "output_type": "stream",
     "text": [
      "/home/sampsa/fiftyone/nokia-detection\r\n",
      "├── data -> /home/sampsa/fiftyone/open-images-v6/validation/data\r\n",
      "├── labels\r\n",
      "│   ├── classifications.csv\r\n",
      "│   └── detections.csv\r\n",
      "└── metadata\r\n",
      "    ├── attributes.csv\r\n",
      "    ├── classes.csv\r\n",
      "    └── image_ids.csv\r\n",
      "\r\n",
      "3 directories, 5 files\r\n"
     ]
    }
   ],
   "source": [
    "!tree --filelimit=10 ~/fiftyone/nokia-detection | cat"
   ]
  },
  {
   "cell_type": "markdown",
   "id": "ee37b420",
   "metadata": {},
   "source": [
    "We have a new OpenImageV6 formatted data/directory structure with new annotations, but it uses images from the official OpenImageV6 dataset (note that link from ``data -> ~/fiftyone/open-images-v6/validation/data``)\n",
    "\n",
    "The only thing we're left to do, is to register this OpenImageV6 formatted dataset into fiftyone:"
   ]
  },
  {
   "cell_type": "code",
   "execution_count": 12,
   "id": "8bdbe1e5",
   "metadata": {},
   "outputs": [],
   "source": [
    "# remove the dataset in the case it was already registered in fiftyone\n",
    "try:\n",
    "    fo.delete_dataset(\"nokia-detection\")\n",
    "except ValueError as e:\n",
    "    print(\"could not delete because of\", e)"
   ]
  },
  {
   "cell_type": "code",
   "execution_count": 14,
   "id": "7ab83b26",
   "metadata": {},
   "outputs": [
    {
     "name": "stdout",
     "output_type": "stream",
     "text": [
      " 100% |███████████████| 5000/5000 [16.9s elapsed, 0s remaining, 290.3 samples/s]      \n"
     ]
    }
   ],
   "source": [
    "dataset_type = fo.types.OpenImagesV6Dataset\n",
    "dataset_dir = os.path.join(fodir,\"nokia-detection\")\n",
    "dataset = fo.Dataset.from_dir(\n",
    "    dataset_dir=dataset_dir,\n",
    "    dataset_type=dataset_type,\n",
    "    label_types=(\"detections\",\"classifications\"),\n",
    "    load_hierarchy=False,\n",
    "    name=\"nokia-detection\",\n",
    "    image_ids=imageIdFileList(list_file)\n",
    ")"
   ]
  },
  {
   "cell_type": "code",
   "execution_count": 17,
   "id": "fe93aa6c",
   "metadata": {},
   "outputs": [],
   "source": [
    "dataset.persistent=True # without this, your dabatase will disappear!"
   ]
  },
  {
   "cell_type": "code",
   "execution_count": 18,
   "id": "f24393da",
   "metadata": {},
   "outputs": [],
   "source": [
    "## now, in the future, just do\n",
    "dataset = fo.load_dataset(\"nokia-detection\")"
   ]
  },
  {
   "cell_type": "markdown",
   "id": "e394ff3b",
   "metadata": {},
   "source": [
    "Finaly, let's also create a dummy dataset for debugging and testing with only one sample:"
   ]
  },
  {
   "cell_type": "code",
   "execution_count": null,
   "id": "2d118f20",
   "metadata": {},
   "outputs": [],
   "source": [
    "try:\n",
    "    fo.delete_dataset(\"nokia-detection-dummy\")\n",
    "except ValueError:\n",
    "    print(\"no dummmy dataset yet..\")\n",
    "dummy_dataset=fo.Dataset(\"nokia-detection-dummy\")\n",
    "for sample in dataset[0:1]:\n",
    "    dummy_dataset.add_sample(sample)\n",
    "dummy_dataset.persistent=True"
   ]
  },
  {
   "cell_type": "code",
   "execution_count": null,
   "id": "7320826e",
   "metadata": {},
   "outputs": [],
   "source": []
  }
 ],
 "metadata": {
  "celltoolbar": "Tags",
  "kernelspec": {
   "display_name": "Python 3",
   "language": "python",
   "name": "python3"
  },
  "language_info": {
   "codemirror_mode": {
    "name": "ipython",
    "version": 3
   },
   "file_extension": ".py",
   "mimetype": "text/x-python",
   "name": "python",
   "nbconvert_exporter": "python",
   "pygments_lexer": "ipython3",
   "version": "3.8.10"
  }
 },
 "nbformat": 4,
 "nbformat_minor": 5
}
