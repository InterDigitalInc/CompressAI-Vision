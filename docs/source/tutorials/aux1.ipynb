{
 "cells": [
  {
   "cell_type": "code",
   "execution_count": 1,
   "id": "a1db3a38",
   "metadata": {},
   "outputs": [
    {
     "name": "stderr",
     "output_type": "stream",
     "text": [
      "/tmp/ipykernel_50467/1348678174.py:6: DeprecationWarning: Importing display from IPython.core.display is deprecated since IPython 7.14, please import from IPython display\n",
      "  from IPython.core.display import display, HTML, Markdown\n"
     ]
    },
    {
     "data": {
      "text/html": [
       "<style>.container { width:100% !important; }</style>"
      ],
      "text/plain": [
       "<IPython.core.display.HTML object>"
      ]
     },
     "metadata": {},
     "output_type": "display_data"
    }
   ],
   "source": [
    "# https://nbconvert.readthedocs.io/en/latest/removing_cells.html\n",
    "# use these magic spells to update your classes methods on-the-fly as you edit them:\n",
    "%reload_ext autoreload\n",
    "%autoreload 2\n",
    "from pprint import pprint\n",
    "from IPython.core.display import display, HTML, Markdown\n",
    "import ipywidgets as widgets\n",
    "# %run includeme.ipynb # include a notebook from this same directory\n",
    "display(HTML(\"<style>.container { width:100% !important; }</style>\"))"
   ]
  },
  {
   "cell_type": "code",
   "execution_count": 2,
   "id": "df4e964f",
   "metadata": {},
   "outputs": [],
   "source": [
    "# fiftyone\n",
    "import fiftyone as fo\n",
    "import fiftyone.zoo as foz"
   ]
  },
  {
   "cell_type": "code",
   "execution_count": 3,
   "id": "4a97e6da",
   "metadata": {},
   "outputs": [],
   "source": [
    "ds=fo.load_dataset(\"quickstart\")"
   ]
  },
  {
   "cell_type": "code",
   "execution_count": 4,
   "id": "b6898c18",
   "metadata": {},
   "outputs": [
    {
     "data": {
      "text/plain": [
       "Name:        quickstart\n",
       "Media type:  image\n",
       "Num samples: 200\n",
       "Persistent:  True\n",
       "Tags:        []\n",
       "Sample fields:\n",
       "    id:           fiftyone.core.fields.ObjectIdField\n",
       "    filepath:     fiftyone.core.fields.StringField\n",
       "    tags:         fiftyone.core.fields.ListField(fiftyone.core.fields.StringField)\n",
       "    metadata:     fiftyone.core.fields.EmbeddedDocumentField(fiftyone.core.metadata.ImageMetadata)\n",
       "    ground_truth: fiftyone.core.fields.EmbeddedDocumentField(fiftyone.core.labels.Detections)\n",
       "    uniqueness:   fiftyone.core.fields.FloatField\n",
       "    predictions:  fiftyone.core.fields.EmbeddedDocumentField(fiftyone.core.labels.Detections)"
      ]
     },
     "execution_count": 4,
     "metadata": {},
     "output_type": "execute_result"
    }
   ],
   "source": [
    "ds"
   ]
  },
  {
   "cell_type": "code",
   "execution_count": 5,
   "id": "e8bef3ad",
   "metadata": {},
   "outputs": [
    {
     "data": {
      "text/plain": [
       "<Sample: {\n",
       "    'id': '6337236dc4f77092496e38aa',\n",
       "    'media_type': 'image',\n",
       "    'filepath': '/home/sampsa/fiftyone/quickstart/data/000880.jpg',\n",
       "    'tags': BaseList(['validation']),\n",
       "    'metadata': None,\n",
       "    'ground_truth': <Detections: {\n",
       "        'detections': BaseList([\n",
       "            <Detection: {\n",
       "                'id': '5f452471ef00e6374aac53c8',\n",
       "                'attributes': BaseDict({}),\n",
       "                'tags': BaseList([]),\n",
       "                'label': 'bird',\n",
       "                'bounding_box': BaseList([\n",
       "                    0.21084375,\n",
       "                    0.0034375,\n",
       "                    0.46190625,\n",
       "                    0.9442083333333334,\n",
       "                ]),\n",
       "                'mask': None,\n",
       "                'confidence': None,\n",
       "                'index': None,\n",
       "                'area': 73790.37944999996,\n",
       "                'iscrowd': 0.0,\n",
       "            }>,\n",
       "            <Detection: {\n",
       "                'id': '5f452471ef00e6374aac53c9',\n",
       "                'attributes': BaseDict({}),\n",
       "                'tags': BaseList([]),\n",
       "                'label': 'bird',\n",
       "                'bounding_box': BaseList([\n",
       "                    0.74946875,\n",
       "                    0.489375,\n",
       "                    0.2164375,\n",
       "                    0.23183333333333334,\n",
       "                ]),\n",
       "                'mask': None,\n",
       "                'confidence': None,\n",
       "                'index': None,\n",
       "                'area': 3935.7593000000006,\n",
       "                'iscrowd': 0.0,\n",
       "            }>,\n",
       "            <Detection: {\n",
       "                'id': '5f452471ef00e6374aac53ca',\n",
       "                'attributes': BaseDict({}),\n",
       "                'tags': BaseList([]),\n",
       "                'label': 'bird',\n",
       "                'bounding_box': BaseList([\n",
       "                    0.044234375,\n",
       "                    0.5282083333333333,\n",
       "                    0.151390625,\n",
       "                    0.14145833333333335,\n",
       "                ]),\n",
       "                'mask': None,\n",
       "                'confidence': None,\n",
       "                'index': None,\n",
       "                'area': 4827.32605,\n",
       "                'iscrowd': 0.0,\n",
       "            }>,\n",
       "        ]),\n",
       "    }>,\n",
       "    'uniqueness': 0.8175834390151201,\n",
       "    'predictions': <Detections: {\n",
       "        'detections': BaseList([\n",
       "            <Detection: {\n",
       "                'id': '5f452c60ef00e6374aad9394',\n",
       "                'attributes': BaseDict({}),\n",
       "                'tags': BaseList([]),\n",
       "                'label': 'bird',\n",
       "                'bounding_box': BaseList([\n",
       "                    0.22192673683166503,\n",
       "                    0.06093006531397502,\n",
       "                    0.4808845520019531,\n",
       "                    0.8937615712483724,\n",
       "                ]),\n",
       "                'mask': None,\n",
       "                'confidence': 0.9750854969024658,\n",
       "                'index': None,\n",
       "            }>,\n",
       "            <Detection: {\n",
       "                'id': '5f452c60ef00e6374aad9395',\n",
       "                'attributes': BaseDict({}),\n",
       "                'tags': BaseList([]),\n",
       "                'label': 'bird',\n",
       "                'bounding_box': BaseList([\n",
       "                    0.3962469816207886,\n",
       "                    0.006943931678930918,\n",
       "                    0.27418792247772217,\n",
       "                    0.46793556213378906,\n",
       "                ]),\n",
       "                'mask': None,\n",
       "                'confidence': 0.759726881980896,\n",
       "                'index': None,\n",
       "            }>,\n",
       "            <Detection: {\n",
       "                'id': '5f452c60ef00e6374aad9396',\n",
       "                'attributes': BaseDict({}),\n",
       "                'tags': BaseList([]),\n",
       "                'label': 'bird',\n",
       "                'bounding_box': BaseList([\n",
       "                    0.02506386339664459,\n",
       "                    0.548487663269043,\n",
       "                    0.16438478231430054,\n",
       "                    0.16736234029134114,\n",
       "                ]),\n",
       "                'mask': None,\n",
       "                'confidence': 0.6569182276725769,\n",
       "                'index': None,\n",
       "            }>,\n",
       "            <Detection: {\n",
       "                'id': '5f452c60ef00e6374aad9397',\n",
       "                'attributes': BaseDict({}),\n",
       "                'tags': BaseList([]),\n",
       "                'label': 'bird',\n",
       "                'bounding_box': BaseList([\n",
       "                    0.4889101028442383,\n",
       "                    0.009576511383056641,\n",
       "                    0.13802199363708495,\n",
       "                    0.2093157132466634,\n",
       "                ]),\n",
       "                'mask': None,\n",
       "                'confidence': 0.2359301745891571,\n",
       "                'index': None,\n",
       "            }>,\n",
       "            <Detection: {\n",
       "                'id': '5f452c60ef00e6374aad9398',\n",
       "                'attributes': BaseDict({}),\n",
       "                'tags': BaseList([]),\n",
       "                'label': 'elephant',\n",
       "                'bounding_box': BaseList([\n",
       "                    0.015171945095062256,\n",
       "                    0.555288823445638,\n",
       "                    0.1813342332839966,\n",
       "                    0.15938574473063152,\n",
       "                ]),\n",
       "                'mask': None,\n",
       "                'confidence': 0.221974179148674,\n",
       "                'index': None,\n",
       "            }>,\n",
       "            <Detection: {\n",
       "                'id': '5f452c60ef00e6374aad9399',\n",
       "                'attributes': BaseDict({}),\n",
       "                'tags': BaseList([]),\n",
       "                'label': 'bear',\n",
       "                'bounding_box': BaseList([\n",
       "                    0.017808181047439576,\n",
       "                    0.5488224665323893,\n",
       "                    0.17450940608978271,\n",
       "                    0.16891117095947267,\n",
       "                ]),\n",
       "                'mask': None,\n",
       "                'confidence': 0.1965726613998413,\n",
       "                'index': None,\n",
       "            }>,\n",
       "            <Detection: {\n",
       "                'id': '5f452c60ef00e6374aad939a',\n",
       "                'attributes': BaseDict({}),\n",
       "                'tags': BaseList([]),\n",
       "                'label': 'elephant',\n",
       "                'bounding_box': BaseList([\n",
       "                    0.16558188199996948,\n",
       "                    0.5723957061767578,\n",
       "                    0.09993256330490112,\n",
       "                    0.10098978678385416,\n",
       "                ]),\n",
       "                'mask': None,\n",
       "                'confidence': 0.18904592096805573,\n",
       "                'index': None,\n",
       "            }>,\n",
       "            <Detection: {\n",
       "                'id': '5f452c60ef00e6374aad939b',\n",
       "                'attributes': BaseDict({}),\n",
       "                'tags': BaseList([]),\n",
       "                'label': 'sheep',\n",
       "                'bounding_box': BaseList([\n",
       "                    0.213010573387146,\n",
       "                    0.05354320605595907,\n",
       "                    0.5153374671936035,\n",
       "                    0.8933518091837566,\n",
       "                ]),\n",
       "                'mask': None,\n",
       "                'confidence': 0.11480894684791565,\n",
       "                'index': None,\n",
       "            }>,\n",
       "            <Detection: {\n",
       "                'id': '5f452c60ef00e6374aad939c',\n",
       "                'attributes': BaseDict({}),\n",
       "                'tags': BaseList([]),\n",
       "                'label': 'bird',\n",
       "                'bounding_box': BaseList([\n",
       "                    0.29751906394958494,\n",
       "                    0.010790024201075237,\n",
       "                    0.3315577507019043,\n",
       "                    0.34026527404785156,\n",
       "                ]),\n",
       "                'mask': None,\n",
       "                'confidence': 0.11089690029621124,\n",
       "                'index': None,\n",
       "            }>,\n",
       "            <Detection: {\n",
       "                'id': '5f452c60ef00e6374aad939d',\n",
       "                'attributes': BaseDict({}),\n",
       "                'tags': BaseList([]),\n",
       "                'label': 'elephant',\n",
       "                'bounding_box': BaseList([\n",
       "                    0.08351035118103027,\n",
       "                    0.5574632008870443,\n",
       "                    0.18209288120269776,\n",
       "                    0.1426785151163737,\n",
       "                ]),\n",
       "                'mask': None,\n",
       "                'confidence': 0.0971052274107933,\n",
       "                'index': None,\n",
       "            }>,\n",
       "            <Detection: {\n",
       "                'id': '5f452c60ef00e6374aad939e',\n",
       "                'attributes': BaseDict({}),\n",
       "                'tags': BaseList([]),\n",
       "                'label': 'bird',\n",
       "                'bounding_box': BaseList([\n",
       "                    0.4461814880371094,\n",
       "                    0.0007838249827424685,\n",
       "                    0.209574556350708,\n",
       "                    0.309667714436849,\n",
       "                ]),\n",
       "                'mask': None,\n",
       "                'confidence': 0.08403241634368896,\n",
       "                'index': None,\n",
       "            }>,\n",
       "            <Detection: {\n",
       "                'id': '5f452c60ef00e6374aad939f',\n",
       "                'attributes': BaseDict({}),\n",
       "                'tags': BaseList([]),\n",
       "                'label': 'bird',\n",
       "                'bounding_box': BaseList([\n",
       "                    0.5395165920257569,\n",
       "                    0.034476550420125325,\n",
       "                    0.07703280448913574,\n",
       "                    0.16296254793802897,\n",
       "                ]),\n",
       "                'mask': None,\n",
       "                'confidence': 0.07699568569660187,\n",
       "                'index': None,\n",
       "            }>,\n",
       "            <Detection: {\n",
       "                'id': '5f452c60ef00e6374aad93a0',\n",
       "                'attributes': BaseDict({}),\n",
       "                'tags': BaseList([]),\n",
       "                'label': 'bear',\n",
       "                'bounding_box': BaseList([\n",
       "                    0.217216157913208,\n",
       "                    0.05954849322636922,\n",
       "                    0.49451656341552735,\n",
       "                    0.8721434275309244,\n",
       "                ]),\n",
       "                'mask': None,\n",
       "                'confidence': 0.058097004890441895,\n",
       "                'index': None,\n",
       "            }>,\n",
       "            <Detection: {\n",
       "                'id': '5f452c60ef00e6374aad93a1',\n",
       "                'attributes': BaseDict({}),\n",
       "                'tags': BaseList([]),\n",
       "                'label': 'sheep',\n",
       "                'bounding_box': BaseList([\n",
       "                    0.018094074726104737,\n",
       "                    0.5562847137451172,\n",
       "                    0.17362892627716064,\n",
       "                    0.15742950439453124,\n",
       "                ]),\n",
       "                'mask': None,\n",
       "                'confidence': 0.0519101656973362,\n",
       "                'index': None,\n",
       "            }>,\n",
       "        ]),\n",
       "    }>,\n",
       "}>"
      ]
     },
     "execution_count": 5,
     "metadata": {},
     "output_type": "execute_result"
    }
   ],
   "source": [
    "ds.first()"
   ]
  },
  {
   "cell_type": "code",
   "execution_count": 6,
   "id": "76687164",
   "metadata": {},
   "outputs": [],
   "source": [
    "ds2=fo.load_dataset(\"mpeg-vcm-detection\")"
   ]
  },
  {
   "cell_type": "code",
   "execution_count": 8,
   "id": "8ec1275c",
   "metadata": {},
   "outputs": [
    {
     "data": {
      "text/plain": [
       "Name:        mpeg-vcm-detection\n",
       "Media type:  image\n",
       "Num samples: 5000\n",
       "Persistent:  True\n",
       "Tags:        []\n",
       "Sample fields:\n",
       "    id:              fiftyone.core.fields.ObjectIdField\n",
       "    filepath:        fiftyone.core.fields.StringField\n",
       "    tags:            fiftyone.core.fields.ListField(fiftyone.core.fields.StringField)\n",
       "    metadata:        fiftyone.core.fields.EmbeddedDocumentField(fiftyone.core.metadata.ImageMetadata)\n",
       "    positive_labels: fiftyone.core.fields.EmbeddedDocumentField(fiftyone.core.labels.Classifications)\n",
       "    negative_labels: fiftyone.core.fields.EmbeddedDocumentField(fiftyone.core.labels.Classifications)\n",
       "    detections:      fiftyone.core.fields.EmbeddedDocumentField(fiftyone.core.labels.Detections)\n",
       "    open_images_id:  fiftyone.core.fields.StringField"
      ]
     },
     "execution_count": 8,
     "metadata": {},
     "output_type": "execute_result"
    }
   ],
   "source": [
    "ds2"
   ]
  },
  {
   "cell_type": "code",
   "execution_count": 12,
   "id": "7cc8eed8",
   "metadata": {},
   "outputs": [
    {
     "name": "stdout",
     "output_type": "stream",
     "text": [
      "fiftyone.core.fields.EmbeddedDocumentField(fiftyone.core.labels.Detections)\n"
     ]
    }
   ],
   "source": [
    "f=ds2.get_field(\"detections\")\n",
    "print(f)"
   ]
  },
  {
   "cell_type": "code",
   "execution_count": 14,
   "id": "7837b2c6",
   "metadata": {},
   "outputs": [
    {
     "data": {
      "text/plain": [
       "odict_keys(['id', 'filepath', 'tags', 'metadata', 'positive_labels', 'negative_labels', 'detections', 'open_images_id'])"
      ]
     },
     "execution_count": 14,
     "metadata": {},
     "output_type": "execute_result"
    }
   ],
   "source": [
    "ds2.get_field_schema().keys()"
   ]
  },
  {
   "cell_type": "code",
   "execution_count": 15,
   "id": "1e882bc8",
   "metadata": {},
   "outputs": [
    {
     "name": "stdout",
     "output_type": "stream",
     "text": [
      "Name:        mpeg-vcm-detection\n",
      "Media type:  image\n",
      "Num samples: 5000\n",
      "Persistent:  True\n",
      "Tags:        []\n",
      "Sample fields:\n",
      "    id:              fiftyone.core.fields.ObjectIdField\n",
      "    filepath:        fiftyone.core.fields.StringField\n",
      "    tags:            fiftyone.core.fields.ListField(fiftyone.core.fields.StringField)\n",
      "    metadata:        fiftyone.core.fields.EmbeddedDocumentField(fiftyone.core.metadata.ImageMetadata)\n",
      "    positive_labels: fiftyone.core.fields.EmbeddedDocumentField(fiftyone.core.labels.Classifications)\n",
      "    negative_labels: fiftyone.core.fields.EmbeddedDocumentField(fiftyone.core.labels.Classifications)\n",
      "    detections:      fiftyone.core.fields.EmbeddedDocumentField(fiftyone.core.labels.Detections)\n",
      "    open_images_id:  fiftyone.core.fields.StringField\n"
     ]
    }
   ],
   "source": [
    "print(ds2)"
   ]
  },
  {
   "cell_type": "code",
   "execution_count": 7,
   "id": "28264352",
   "metadata": {},
   "outputs": [
    {
     "data": {
      "text/plain": [
       "<Sample: {\n",
       "    'id': '633720fcee3965dd257f2474',\n",
       "    'media_type': 'image',\n",
       "    'filepath': '/home/sampsa/fiftyone/mpeg-vcm-detection/data/0001eeaf4aed83f9.jpg',\n",
       "    'tags': BaseList([]),\n",
       "    'metadata': None,\n",
       "    'positive_labels': <Classifications: {\n",
       "        'classifications': BaseList([\n",
       "            <Classification: {\n",
       "                'id': '633720fcee3965dd257f2472',\n",
       "                'tags': BaseList([]),\n",
       "                'label': 'airplane',\n",
       "                'confidence': 1.0,\n",
       "                'logits': None,\n",
       "            }>,\n",
       "        ]),\n",
       "        'logits': None,\n",
       "    }>,\n",
       "    'negative_labels': <Classifications: {'classifications': BaseList([]), 'logits': None}>,\n",
       "    'detections': <Detections: {\n",
       "        'detections': BaseList([\n",
       "            <Detection: {\n",
       "                'id': '633720fcee3965dd257f2473',\n",
       "                'attributes': BaseDict({}),\n",
       "                'tags': BaseList([]),\n",
       "                'label': 'airplane',\n",
       "                'bounding_box': BaseList([\n",
       "                    0.022673031,\n",
       "                    0.07103825,\n",
       "                    0.9415274690000001,\n",
       "                    0.72950822,\n",
       "                ]),\n",
       "                'mask': None,\n",
       "                'confidence': None,\n",
       "                'index': None,\n",
       "                'IsOccluded': False,\n",
       "                'IsTruncated': False,\n",
       "                'IsGroupOf': False,\n",
       "                'IsDepiction': False,\n",
       "                'IsInside': False,\n",
       "            }>,\n",
       "        ]),\n",
       "    }>,\n",
       "    'open_images_id': '0001eeaf4aed83f9',\n",
       "}>"
      ]
     },
     "execution_count": 7,
     "metadata": {},
     "output_type": "execute_result"
    }
   ],
   "source": [
    "ds2.first()"
   ]
  },
  {
   "cell_type": "code",
   "execution_count": null,
   "id": "9e76878d",
   "metadata": {},
   "outputs": [],
   "source": []
  }
 ],
 "metadata": {
  "kernelspec": {
   "display_name": "Python 3",
   "language": "python",
   "name": "python3"
  },
  "language_info": {
   "codemirror_mode": {
    "name": "ipython",
    "version": 3
   },
   "file_extension": ".py",
   "mimetype": "text/x-python",
   "name": "python",
   "nbconvert_exporter": "python",
   "pygments_lexer": "ipython3",
   "version": "3.8.10"
  }
 },
 "nbformat": 4,
 "nbformat_minor": 5
}
