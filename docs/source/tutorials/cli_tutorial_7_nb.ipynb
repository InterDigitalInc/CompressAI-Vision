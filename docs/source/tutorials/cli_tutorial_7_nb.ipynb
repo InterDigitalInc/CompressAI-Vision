{
 "cells": [
  {
   "cell_type": "markdown",
   "id": "77d59ce9",
   "metadata": {},
   "source": [
    "# Tutorial, chapter 7\n",
    "\n",
    "In this tutorial you will learn how to\n",
    "\n",
    "- Convert and import the ``sfu-hw-objects-v1`` custom video dataset\n",
    "- Visualize frames from the video dataset"
   ]
  },
  {
   "cell_type": "code",
   "execution_count": 1,
   "id": "b37649d7",
   "metadata": {
    "tags": [
     "remove_cell"
    ]
   },
   "outputs": [
    {
     "name": "stderr",
     "output_type": "stream",
     "text": [
      "/tmp/ipykernel_26106/1348678174.py:6: DeprecationWarning: Importing display from IPython.core.display is deprecated since IPython 7.14, please import from IPython display\n",
      "  from IPython.core.display import display, HTML, Markdown\n"
     ]
    },
    {
     "data": {
      "text/html": [
       "<style>.container { width:100% !important; }</style>"
      ],
      "text/plain": [
       "<IPython.core.display.HTML object>"
      ]
     },
     "metadata": {},
     "output_type": "display_data"
    }
   ],
   "source": [
    "# https://nbconvert.readthedocs.io/en/latest/removing_cells.html\n",
    "# use these magic spells to update your classes methods on-the-fly as you edit them:\n",
    "%reload_ext autoreload\n",
    "%autoreload 2\n",
    "from pprint import pprint\n",
    "from IPython.core.display import display, HTML, Markdown\n",
    "import ipywidgets as widgets\n",
    "# %run includeme.ipynb # include a notebook from this same directory\n",
    "display(HTML(\"<style>.container { width:100% !important; }</style>\"))"
   ]
  },
  {
   "cell_type": "code",
   "execution_count": 2,
   "id": "6755a591",
   "metadata": {
    "tags": [
     "remove_cell"
    ]
   },
   "outputs": [],
   "source": [
    "path_to_sfu_hw_objects_v1=\"/home/sampsa/silo/interdigital/mock/SFU-HW-Objects-v1\""
   ]
  },
  {
   "cell_type": "code",
   "execution_count": 3,
   "id": "16c07d5f",
   "metadata": {},
   "outputs": [
    {
     "name": "stdout",
     "output_type": "stream",
     "text": [
      "/home/sampsa/silo/interdigital/mock/SFU-HW-Objects-v1\r\n",
      "├── ClassC\r\n",
      "│   ├── Annotations\r\n",
      "│   │   └── BasketballDrill [505 entries exceeds filelimit, not opening dir]\r\n",
      "│   └── BasketballDrill_832x480_50Hz_8bit_P420.yuv\r\n",
      "└── ClassX\r\n",
      "    ├── Annotations\r\n",
      "    │   └── BasketballDrill\r\n",
      "    │       ├── BasketballDrill_832x480_50_seq_001.txt\r\n",
      "    │       ├── BasketballDrill_832x480_50_seq_002.txt\r\n",
      "    │       ├── BasketballDrill_832x480_50_seq_003.txt\r\n",
      "    │       ├── BasketballDrill_832x480_50_seq_004.txt\r\n",
      "    │       ├── BasketballDrill_832x480_object.list\r\n",
      "    │       ├── video.mkv\r\n",
      "    │       ├── video.mp4\r\n",
      "    │       └── video.webm\r\n",
      "    └── BasketballDrill_832x480_50Hz_8bit_P420.yuv -> /home/sampsa/silo/interdigital/mock/SFU-HW-Objects-v1/ClassC/BasketballDrill_832x480_50Hz_8bit_P420.yuv\r\n",
      "\r\n",
      "6 directories, 10 files\r\n"
     ]
    }
   ],
   "source": [
    "!tree {path_to_sfu_hw_objects_v1} --filelimit=10 | cat"
   ]
  },
  {
   "cell_type": "code",
   "execution_count": 4,
   "id": "3cb2fb36",
   "metadata": {},
   "outputs": [
    {
     "name": "stdout",
     "output_type": "stream",
     "text": [
      "\n",
      "Converting raw video proper container format\n",
      "\n",
      "Dataset type           :  sfu-hw-objects-v1\n",
      "Dataset root directory :  /home/sampsa/silo/interdigital/mock/SFU-HW-Objects-v1\n",
      "\n",
      "finding .yuv files from /home/sampsa/silo/interdigital/mock/SFU-HW-Objects-v1\n",
      "ffmpeg -y -f rawvideo -pixel_format yuv420p -video_size 832x480 -i /home/sampsa/silo/interdigital/mock/SFU-HW-Objects-v1/ClassC/BasketballDrill_832x480_50Hz_8bit_P420.yuv -an -c:v h264 -q 0 -r 50 /home/sampsa/silo/interdigital/mock/SFU-HW-Objects-v1/ClassC/Annotations/BasketballDrill/video.mp4\n",
      "ffmpeg version 4.2.7-0ubuntu0.1 Copyright (c) 2000-2022 the FFmpeg developers\n",
      "  built with gcc 9 (Ubuntu 9.4.0-1ubuntu1~20.04.1)\n",
      "  configuration: --prefix=/usr --extra-version=0ubuntu0.1 --toolchain=hardened --libdir=/usr/lib/x86_64-linux-gnu --incdir=/usr/include/x86_64-linux-gnu --arch=amd64 --enable-gpl --disable-stripping --enable-avresample --disable-filter=resample --enable-avisynth --enable-gnutls --enable-ladspa --enable-libaom --enable-libass --enable-libbluray --enable-libbs2b --enable-libcaca --enable-libcdio --enable-libcodec2 --enable-libflite --enable-libfontconfig --enable-libfreetype --enable-libfribidi --enable-libgme --enable-libgsm --enable-libjack --enable-libmp3lame --enable-libmysofa --enable-libopenjpeg --enable-libopenmpt --enable-libopus --enable-libpulse --enable-librsvg --enable-librubberband --enable-libshine --enable-libsnappy --enable-libsoxr --enable-libspeex --enable-libssh --enable-libtheora --enable-libtwolame --enable-libvidstab --enable-libvorbis --enable-libvpx --enable-libwavpack --enable-libwebp --enable-libx265 --enable-libxml2 --enable-libxvid --enable-libzmq --enable-libzvbi --enable-lv2 --enable-omx --enable-openal --enable-opencl --enable-opengl --enable-sdl2 --enable-libdc1394 --enable-libdrm --enable-libiec61883 --enable-nvenc --enable-chromaprint --enable-frei0r --enable-libx264 --enable-shared\n",
      "  libavutil      56. 31.100 / 56. 31.100\n",
      "  libavcodec     58. 54.100 / 58. 54.100\n",
      "  libavformat    58. 29.100 / 58. 29.100\n",
      "  libavdevice    58.  8.100 / 58.  8.100\n",
      "  libavfilter     7. 57.100 /  7. 57.100\n",
      "  libavresample   4.  0.  0 /  4.  0.  0\n",
      "  libswscale      5.  5.100 /  5.  5.100\n",
      "  libswresample   3.  5.100 /  3.  5.100\n",
      "  libpostproc    55.  5.100 / 55.  5.100\n",
      "\u001b[0;35m[rawvideo @ 0x56395a6cd7c0] \u001b[0m\u001b[0;33mEstimating duration from bitrate, this may be inaccurate\n",
      "\u001b[0mInput #0, rawvideo, from '/home/sampsa/silo/interdigital/mock/SFU-HW-Objects-v1/ClassC/BasketballDrill_832x480_50Hz_8bit_P420.yuv':\n",
      "  Duration: 00:00:20.04, start: 0.000000, bitrate: 119808 kb/s\n",
      "    Stream #0:0: Video: rawvideo (I420 / 0x30323449), yuv420p, 832x480, 119808 kb/s, 25 tbr, 25 tbn, 25 tbc\n",
      "Stream mapping:\n",
      "  Stream #0:0 -> #0:0 (rawvideo (native) -> h264 (libx264))\n",
      "Press [q] to stop, [?] for help\n",
      "\u001b[1;36m[libx264 @ 0x56395a6db000] \u001b[0musing cpu capabilities: MMX2 SSE2Fast SSSE3 SSE4.2 AVX FMA3 BMI2 AVX2\n",
      "\u001b[1;36m[libx264 @ 0x56395a6db000] \u001b[0mprofile High, level 3.1\n",
      "\u001b[1;36m[libx264 @ 0x56395a6db000] \u001b[0m264 - core 155 r2917 0a84d98 - H.264/MPEG-4 AVC codec - Copyleft 2003-2018 - http://www.videolan.org/x264.html - options: cabac=1 ref=3 deblock=1:0:0 analyse=0x3:0x113 me=hex subme=7 psy=1 psy_rd=1.00:0.00 mixed_ref=1 me_range=16 chroma_me=1 trellis=1 8x8dct=1 cqm=0 deadzone=21,11 fast_pskip=1 chroma_qp_offset=-2 threads=12 lookahead_threads=2 sliced_threads=0 nr=0 decimate=1 interlaced=0 bluray_compat=0 constrained_intra=0 bframes=3 b_pyramid=2 b_adapt=1 b_bias=0 direct=1 weightb=1 open_gop=0 weightp=2 keyint=250 keyint_min=25 scenecut=40 intra_refresh=0 rc_lookahead=40 rc=crf mbtree=1 crf=23.0 qcomp=0.60 qpmin=0 qpmax=69 qpstep=4 ip_ratio=1.40 aq=1:1.00\n",
      "Output #0, mp4, to '/home/sampsa/silo/interdigital/mock/SFU-HW-Objects-v1/ClassC/Annotations/BasketballDrill/video.mp4':\n",
      "  Metadata:\n",
      "    encoder         : Lavf58.29.100\n",
      "    Stream #0:0: Video: h264 (libx264) (avc1 / 0x31637661), yuv420p, 832x480, q=-1--1, 50 fps, 12800 tbn, 50 tbc\n",
      "    Metadata:\n",
      "      encoder         : Lavc58.54.100 libx264\n",
      "    Side data:\n",
      "      cpb: bitrate max/min/avg: 0/0/0 buffer size: 0 vbv_delay: -1\n",
      "frame= 1002 fps=190 q=-1.0 Lsize=    4188kB time=00:00:19.98 bitrate=1717.2kbits/s dup=501 drop=0 speed=3.78x    \n",
      "video:4176kB audio:0kB subtitle:0kB other streams:0kB global headers:0kB muxing overhead: 0.301671%\n",
      "\u001b[1;36m[libx264 @ 0x56395a6db000] \u001b[0mframe I:5     Avg QP:23.20  size: 57827\n",
      "\u001b[1;36m[libx264 @ 0x56395a6db000] \u001b[0mframe P:253   Avg QP:25.76  size: 11964\n",
      "\u001b[1;36m[libx264 @ 0x56395a6db000] \u001b[0mframe B:744   Avg QP:30.21  size:  1289\n",
      "\u001b[1;36m[libx264 @ 0x56395a6db000] \u001b[0mconsecutive B-frames:  1.0%  0.0%  0.0% 99.0%\n",
      "\u001b[1;36m[libx264 @ 0x56395a6db000] \u001b[0mmb I  I16..4:  7.5% 42.0% 50.5%\n",
      "\u001b[1;36m[libx264 @ 0x56395a6db000] \u001b[0mmb P  I16..4:  0.1%  5.8%  2.6%  P16..4: 42.8% 16.3% 11.0%  0.0%  0.0%    skip:21.4%\n",
      "\u001b[1;36m[libx264 @ 0x56395a6db000] \u001b[0mmb B  I16..4:  0.0%  0.1%  0.0%  B16..8: 25.2%  2.8%  1.0%  direct: 0.8%  skip:70.1%  L0:62.4% L1:31.1% BI: 6.6%\n",
      "\u001b[1;36m[libx264 @ 0x56395a6db000] \u001b[0m8x8 transform intra:63.8% inter:66.2%\n",
      "\u001b[1;36m[libx264 @ 0x56395a6db000] \u001b[0mcoded y,uvDC,uvAC intra: 86.7% 85.4% 59.9% inter: 11.9% 9.7% 2.4%\n",
      "\u001b[1;36m[libx264 @ 0x56395a6db000] \u001b[0mi16 v,h,dc,p: 52% 13%  8% 27%\n",
      "\u001b[1;36m[libx264 @ 0x56395a6db000] \u001b[0mi8 v,h,dc,ddl,ddr,vr,hd,vl,hu:  9%  7% 10%  6% 22% 19% 10%  8%  9%\n",
      "\u001b[1;36m[libx264 @ 0x56395a6db000] \u001b[0mi4 v,h,dc,ddl,ddr,vr,hd,vl,hu: 14%  8% 14%  6% 21% 16%  8%  6%  6%\n",
      "\u001b[1;36m[libx264 @ 0x56395a6db000] \u001b[0mi8c dc,h,v,p: 50% 16% 22% 12%\n",
      "\u001b[1;36m[libx264 @ 0x56395a6db000] \u001b[0mWeighted P-Frames: Y:0.0% UV:0.0%\n",
      "\u001b[1;36m[libx264 @ 0x56395a6db000] \u001b[0mref P L0: 51.0% 27.4% 13.5%  8.1%\n",
      "\u001b[1;36m[libx264 @ 0x56395a6db000] \u001b[0mref B L0: 87.1%  8.9%  4.0%\n",
      "\u001b[1;36m[libx264 @ 0x56395a6db000] \u001b[0mref B L1: 96.1%  3.9%\n",
      "\u001b[1;36m[libx264 @ 0x56395a6db000] \u001b[0mkb/s:1706.65\n",
      "ffmpeg -y -f rawvideo -pixel_format yuv420p -video_size 832x480 -i /home/sampsa/silo/interdigital/mock/SFU-HW-Objects-v1/ClassX/BasketballDrill_832x480_50Hz_8bit_P420.yuv -an -c:v h264 -q 0 -r 50 /home/sampsa/silo/interdigital/mock/SFU-HW-Objects-v1/ClassX/Annotations/BasketballDrill/video.mp4\n",
      "ffmpeg version 4.2.7-0ubuntu0.1 Copyright (c) 2000-2022 the FFmpeg developers\n",
      "  built with gcc 9 (Ubuntu 9.4.0-1ubuntu1~20.04.1)\n",
      "  configuration: --prefix=/usr --extra-version=0ubuntu0.1 --toolchain=hardened --libdir=/usr/lib/x86_64-linux-gnu --incdir=/usr/include/x86_64-linux-gnu --arch=amd64 --enable-gpl --disable-stripping --enable-avresample --disable-filter=resample --enable-avisynth --enable-gnutls --enable-ladspa --enable-libaom --enable-libass --enable-libbluray --enable-libbs2b --enable-libcaca --enable-libcdio --enable-libcodec2 --enable-libflite --enable-libfontconfig --enable-libfreetype --enable-libfribidi --enable-libgme --enable-libgsm --enable-libjack --enable-libmp3lame --enable-libmysofa --enable-libopenjpeg --enable-libopenmpt --enable-libopus --enable-libpulse --enable-librsvg --enable-librubberband --enable-libshine --enable-libsnappy --enable-libsoxr --enable-libspeex --enable-libssh --enable-libtheora --enable-libtwolame --enable-libvidstab --enable-libvorbis --enable-libvpx --enable-libwavpack --enable-libwebp --enable-libx265 --enable-libxml2 --enable-libxvid --enable-libzmq --enable-libzvbi --enable-lv2 --enable-omx --enable-openal --enable-opencl --enable-opengl --enable-sdl2 --enable-libdc1394 --enable-libdrm --enable-libiec61883 --enable-nvenc --enable-chromaprint --enable-frei0r --enable-libx264 --enable-shared\n",
      "  libavutil      56. 31.100 / 56. 31.100\n",
      "  libavcodec     58. 54.100 / 58. 54.100\n",
      "  libavformat    58. 29.100 / 58. 29.100\n",
      "  libavdevice    58.  8.100 / 58.  8.100\n",
      "  libavfilter     7. 57.100 /  7. 57.100\n",
      "  libavresample   4.  0.  0 /  4.  0.  0\n",
      "  libswscale      5.  5.100 /  5.  5.100\n",
      "  libswresample   3.  5.100 /  3.  5.100\n",
      "  libpostproc    55.  5.100 / 55.  5.100\n",
      "\u001b[0;35m[rawvideo @ 0x55e29ad487c0] \u001b[0m\u001b[0;33mEstimating duration from bitrate, this may be inaccurate\n",
      "\u001b[0mInput #0, rawvideo, from '/home/sampsa/silo/interdigital/mock/SFU-HW-Objects-v1/ClassX/BasketballDrill_832x480_50Hz_8bit_P420.yuv':\n",
      "  Duration: 00:00:20.04, start: 0.000000, bitrate: 119808 kb/s\n",
      "    Stream #0:0: Video: rawvideo (I420 / 0x30323449), yuv420p, 832x480, 119808 kb/s, 25 tbr, 25 tbn, 25 tbc\n",
      "Stream mapping:\n",
      "  Stream #0:0 -> #0:0 (rawvideo (native) -> h264 (libx264))\n",
      "Press [q] to stop, [?] for help\n",
      "\u001b[1;36m[libx264 @ 0x55e29ad56000] \u001b[0musing cpu capabilities: MMX2 SSE2Fast SSSE3 SSE4.2 AVX FMA3 BMI2 AVX2\n",
      "\u001b[1;36m[libx264 @ 0x55e29ad56000] \u001b[0mprofile High, level 3.1\n",
      "\u001b[1;36m[libx264 @ 0x55e29ad56000] \u001b[0m264 - core 155 r2917 0a84d98 - H.264/MPEG-4 AVC codec - Copyleft 2003-2018 - http://www.videolan.org/x264.html - options: cabac=1 ref=3 deblock=1:0:0 analyse=0x3:0x113 me=hex subme=7 psy=1 psy_rd=1.00:0.00 mixed_ref=1 me_range=16 chroma_me=1 trellis=1 8x8dct=1 cqm=0 deadzone=21,11 fast_pskip=1 chroma_qp_offset=-2 threads=12 lookahead_threads=2 sliced_threads=0 nr=0 decimate=1 interlaced=0 bluray_compat=0 constrained_intra=0 bframes=3 b_pyramid=2 b_adapt=1 b_bias=0 direct=1 weightb=1 open_gop=0 weightp=2 keyint=250 keyint_min=25 scenecut=40 intra_refresh=0 rc_lookahead=40 rc=crf mbtree=1 crf=23.0 qcomp=0.60 qpmin=0 qpmax=69 qpstep=4 ip_ratio=1.40 aq=1:1.00\n",
      "Output #0, mp4, to '/home/sampsa/silo/interdigital/mock/SFU-HW-Objects-v1/ClassX/Annotations/BasketballDrill/video.mp4':\n",
      "  Metadata:\n",
      "    encoder         : Lavf58.29.100\n",
      "    Stream #0:0: Video: h264 (libx264) (avc1 / 0x31637661), yuv420p, 832x480, q=-1--1, 50 fps, 12800 tbn, 50 tbc\n",
      "    Metadata:\n",
      "      encoder         : Lavc58.54.100 libx264\n",
      "    Side data:\n",
      "      cpb: bitrate max/min/avg: 0/0/0 buffer size: 0 vbv_delay: -1\n"
     ]
    },
    {
     "name": "stdout",
     "output_type": "stream",
     "text": [
      "frame= 1002 fps=188 q=-1.0 Lsize=    4188kB time=00:00:19.98 bitrate=1717.2kbits/s dup=501 drop=0 speed=3.76x    \n",
      "video:4176kB audio:0kB subtitle:0kB other streams:0kB global headers:0kB muxing overhead: 0.301671%\n",
      "\u001b[1;36m[libx264 @ 0x55e29ad56000] \u001b[0mframe I:5     Avg QP:23.20  size: 57827\n",
      "\u001b[1;36m[libx264 @ 0x55e29ad56000] \u001b[0mframe P:253   Avg QP:25.76  size: 11964\n",
      "\u001b[1;36m[libx264 @ 0x55e29ad56000] \u001b[0mframe B:744   Avg QP:30.21  size:  1289\n",
      "\u001b[1;36m[libx264 @ 0x55e29ad56000] \u001b[0mconsecutive B-frames:  1.0%  0.0%  0.0% 99.0%\n",
      "\u001b[1;36m[libx264 @ 0x55e29ad56000] \u001b[0mmb I  I16..4:  7.5% 42.0% 50.5%\n",
      "\u001b[1;36m[libx264 @ 0x55e29ad56000] \u001b[0mmb P  I16..4:  0.1%  5.8%  2.6%  P16..4: 42.8% 16.3% 11.0%  0.0%  0.0%    skip:21.4%\n",
      "\u001b[1;36m[libx264 @ 0x55e29ad56000] \u001b[0mmb B  I16..4:  0.0%  0.1%  0.0%  B16..8: 25.2%  2.8%  1.0%  direct: 0.8%  skip:70.1%  L0:62.4% L1:31.1% BI: 6.6%\n",
      "\u001b[1;36m[libx264 @ 0x55e29ad56000] \u001b[0m8x8 transform intra:63.8% inter:66.2%\n",
      "\u001b[1;36m[libx264 @ 0x55e29ad56000] \u001b[0mcoded y,uvDC,uvAC intra: 86.7% 85.4% 59.9% inter: 11.9% 9.7% 2.4%\n",
      "\u001b[1;36m[libx264 @ 0x55e29ad56000] \u001b[0mi16 v,h,dc,p: 52% 13%  8% 27%\n",
      "\u001b[1;36m[libx264 @ 0x55e29ad56000] \u001b[0mi8 v,h,dc,ddl,ddr,vr,hd,vl,hu:  9%  7% 10%  6% 22% 19% 10%  8%  9%\n",
      "\u001b[1;36m[libx264 @ 0x55e29ad56000] \u001b[0mi4 v,h,dc,ddl,ddr,vr,hd,vl,hu: 14%  8% 14%  6% 21% 16%  8%  6%  6%\n",
      "\u001b[1;36m[libx264 @ 0x55e29ad56000] \u001b[0mi8c dc,h,v,p: 50% 16% 22% 12%\n",
      "\u001b[1;36m[libx264 @ 0x55e29ad56000] \u001b[0mWeighted P-Frames: Y:0.0% UV:0.0%\n",
      "\u001b[1;36m[libx264 @ 0x55e29ad56000] \u001b[0mref P L0: 51.0% 27.4% 13.5%  8.1%\n",
      "\u001b[1;36m[libx264 @ 0x55e29ad56000] \u001b[0mref B L0: 87.1%  8.9%  4.0%\n",
      "\u001b[1;36m[libx264 @ 0x55e29ad56000] \u001b[0mref B L1: 96.1%  3.9%\n",
      "\u001b[1;36m[libx264 @ 0x55e29ad56000] \u001b[0mkb/s:1706.65\n",
      "video conversion done\n"
     ]
    }
   ],
   "source": [
    "!compressai-vision convert-video --dataset-type=sfu-hw-objects-v1 --dir={path_to_sfu_hw_objects_v1} --y"
   ]
  },
  {
   "cell_type": "code",
   "execution_count": null,
   "id": "8d003732",
   "metadata": {},
   "outputs": [
    {
     "name": "stdout",
     "output_type": "stream",
     "text": [
      "importing fiftyone\n",
      "fiftyone imported\n",
      "WARNING: dataset sfu-hw-objects-v1 already exists: will delete and rewrite\n",
      "\n",
      "Importing a custom video format into fiftyone\n",
      "\n",
      "Dataset type           :  sfu-hw-objects-v1\n",
      "Dataset root directory :  /home/sampsa/silo/interdigital/mock/SFU-HW-Objects-v1\n",
      "\n"
     ]
    }
   ],
   "source": [
    "!compressai-vision import-video --dataset-type=sfu-hw-objects-v1 --dir={path_to_sfu_hw_objects_v1} --y"
   ]
  },
  {
   "cell_type": "markdown",
   "id": "2c6bcd6f",
   "metadata": {},
   "source": [
    "Let's continue in a python notebook:"
   ]
  },
  {
   "cell_type": "code",
   "execution_count": null,
   "id": "9f6c2eea",
   "metadata": {},
   "outputs": [],
   "source": [
    "import cv2\n",
    "import matplotlib.pyplot as plt\n",
    "import fiftyone as fo\n",
    "from fiftyone import ViewField as F"
   ]
  },
  {
   "cell_type": "code",
   "execution_count": null,
   "id": "c6742fe2",
   "metadata": {},
   "outputs": [],
   "source": [
    "dataset=fo.load_dataset(\"sfu-hw-objects-v1\")"
   ]
  },
  {
   "cell_type": "code",
   "execution_count": null,
   "id": "ad3d008a",
   "metadata": {},
   "outputs": [],
   "source": [
    "dataset"
   ]
  },
  {
   "cell_type": "markdown",
   "id": "1c0167d6",
   "metadata": {},
   "source": [
    "In contrast to image datasets where each sample was an image, now a sample corresponds to a video:"
   ]
  },
  {
   "cell_type": "code",
   "execution_count": null,
   "id": "41a56cb4",
   "metadata": {},
   "outputs": [],
   "source": [
    "dataset.first()"
   ]
  },
  {
   "cell_type": "markdown",
   "id": "f557802d",
   "metadata": {},
   "source": [
    "There is a reference to the video file and a ``Frames`` object, encapsulating ground truths etc. data for each and every frame.  For ``sfu-hw-objects-v1`` in particular, ``class_tag`` corresponds to the class directories (ClassA, ClassB, etc.), while ``name_tag`` to the video descriptive names (BasketballDrill, Traffic, PeopleOnStreeet, etc.).  Let's pick a certain video sample:"
   ]
  },
  {
   "cell_type": "code",
   "execution_count": null,
   "id": "ca21ced4",
   "metadata": {},
   "outputs": [],
   "source": [
    "sample = dataset[ (F(\"name_tag\") == \"BasketballDrill\") & (F(\"class_tag\") == \"ClassC\") ].first()"
   ]
  },
  {
   "cell_type": "markdown",
   "id": "d0ad5a2d",
   "metadata": {},
   "source": [
    "Take a look at the first frame ground truth detections (note that frame indices start from 1):"
   ]
  },
  {
   "cell_type": "code",
   "execution_count": null,
   "id": "b78b4fce",
   "metadata": {},
   "outputs": [],
   "source": [
    "sample.frames[1]"
   ]
  },
  {
   "cell_type": "raw",
   "id": "24654992",
   "metadata": {},
   "source": [
    "Start reading the video file with OpenCV:"
   ]
  },
  {
   "cell_type": "code",
   "execution_count": null,
   "id": "44f893d1",
   "metadata": {},
   "outputs": [],
   "source": [
    "vid=cv2.VideoCapture(sample.filepath)"
   ]
  },
  {
   "cell_type": "markdown",
   "id": "26289a4b",
   "metadata": {},
   "source": [
    "Let's define a small helper function:"
   ]
  },
  {
   "cell_type": "code",
   "execution_count": null,
   "id": "84d2d6b7",
   "metadata": {},
   "outputs": [],
   "source": [
    "def draw_detections(sample: fo.Sample, vid: cv2.VideoCapture, nframe: int):\n",
    "    from math import floor\n",
    "    ok = vid.set(cv2.CAP_PROP_POS_FRAMES, nframe-1)\n",
    "    if not ok:\n",
    "        AssertionError(\"seek failed\")\n",
    "    ok, arr = vid.read() # BGR image in arr\n",
    "    if not ok:\n",
    "        AssertionError(\"no image\")\n",
    "    for detection in sample.frames[nframe].detections.detections:\n",
    "        x0, y0, w, h = detection.bounding_box # rel coords\n",
    "        x1, y1, x2, y2 = floor(x0*arr.shape[1]), floor(y0*arr.shape[0]), floor((x0+w)*arr.shape[1]), floor((y0+h)*arr.shape[0])\n",
    "        arr=cv2.rectangle(arr, (x1, y1), (x2, y2), (255, 0, 0), 5)\n",
    "    return arr"
   ]
  },
  {
   "cell_type": "code",
   "execution_count": null,
   "id": "f99e322a",
   "metadata": {},
   "outputs": [],
   "source": [
    "img=draw_detections(sample, vid, 2)\n",
    "img = img[:,:,::-1] # BGR -> RGB"
   ]
  },
  {
   "cell_type": "code",
   "execution_count": null,
   "id": "2d610658",
   "metadata": {},
   "outputs": [],
   "source": [
    "plt.imshow(img)"
   ]
  },
  {
   "cell_type": "code",
   "execution_count": null,
   "id": "43ec9565",
   "metadata": {},
   "outputs": [],
   "source": [
    "vid.release()"
   ]
  },
  {
   "cell_type": "markdown",
   "id": "48eabccf",
   "metadata": {},
   "source": [
    "Visualize video and annotations in the fiftyone app:"
   ]
  },
  {
   "cell_type": "code",
   "execution_count": null,
   "id": "85500311",
   "metadata": {},
   "outputs": [],
   "source": [
    "# fo.launch_app(dataset)"
   ]
  },
  {
   "cell_type": "code",
   "execution_count": null,
   "id": "b06bd55d",
   "metadata": {},
   "outputs": [],
   "source": [
    "# TODO: \n",
    "# - polish this tutorial\n",
    "# - link reference the fiftyone video quickstart tutorial\n",
    "# - mention that the normal \"register\" command can be used to import standard video collection formats!\n",
    "# - next: evaluation tutorial (just the same detectron2-eval etc. command as always!) .. maybe just mentioning this is enough.. or just give an example command"
   ]
  },
  {
   "cell_type": "code",
   "execution_count": null,
   "id": "04cfd374",
   "metadata": {},
   "outputs": [],
   "source": []
  }
 ],
 "metadata": {
  "celltoolbar": "Tags",
  "kernelspec": {
   "display_name": "Python 3",
   "language": "python",
   "name": "python3"
  },
  "language_info": {
   "codemirror_mode": {
    "name": "ipython",
    "version": 3
   },
   "file_extension": ".py",
   "mimetype": "text/x-python",
   "name": "python",
   "nbconvert_exporter": "python",
   "pygments_lexer": "ipython3",
   "version": "3.8.10"
  }
 },
 "nbformat": 4,
 "nbformat_minor": 5
}
