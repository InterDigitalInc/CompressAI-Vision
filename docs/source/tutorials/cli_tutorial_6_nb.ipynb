{
 "cells": [
  {
   "cell_type": "markdown",
   "id": "af70aa98",
   "metadata": {
    "tags": [
     "remove_cell"
    ]
   },
   "source": [
    "# Tutorial, chapter 6\n",
    "\n",
    "- Generate vtm baseline results"
   ]
  },
  {
   "cell_type": "code",
   "execution_count": 20,
   "id": "bb280563",
   "metadata": {
    "tags": [
     "remove_cell"
    ]
   },
   "outputs": [
    {
     "name": "stderr",
     "output_type": "stream",
     "text": [
      "/tmp/ipykernel_9490/416472496.py:6: DeprecationWarning: Importing display from IPython.core.display is deprecated since IPython 7.14, please import from IPython display\n",
      "  from IPython.core.display import display, HTML, Markdown\n"
     ]
    },
    {
     "data": {
      "text/html": [
       "<style>.container { width:100% !important; }</style>"
      ],
      "text/plain": [
       "<IPython.core.display.HTML object>"
      ]
     },
     "metadata": {},
     "output_type": "display_data"
    }
   ],
   "source": [
    "# https://nbconvert.readthedocs.io/en/latest/removing_cells.html\n",
    "# use these magic spells to update your classes methods on-the-fly as you edit them:\n",
    "%reload_ext autoreload\n",
    "%autoreload 2\n",
    "from pprint import pprint\n",
    "from IPython.core.display import display, HTML, Markdown\n",
    "# import ipywidgets as widgets\n",
    "# %run includeme.ipynb # include a notebook from this same directory\n",
    "display(HTML(\"<style>.container { width:100% !important; }</style>\"))\n",
    "from PIL import Image\n",
    "from matplotlib import pyplot as plt"
   ]
  },
  {
   "cell_type": "markdown",
   "id": "2a4d61f6",
   "metadata": {},
   "source": [
    "In this chapter you will learn:\n",
    "\n",
    "- to generate and cache VTM-encoded bitstream\n",
    "- to create VTM baseline results"
   ]
  },
  {
   "cell_type": "code",
   "execution_count": 8,
   "id": "6cb5e87c",
   "metadata": {
    "tags": [
     "remove_cell"
    ]
   },
   "outputs": [],
   "source": [
    "path_to_examples=\"/home/sampsa/silo/interdigital/CompressAI-Vision/examples\"\n",
    "path_to_vtm_software=\"/home/sampsa/silo/interdigital/VVCSoftware_VTM\""
   ]
  },
  {
   "cell_type": "markdown",
   "id": "585ca8f1",
   "metadata": {},
   "source": [
    "The subcommand ``vtm`` encodes images from your dataset with the VTM program.  VTM features state-of-the-art classical video encoding techniques and it is used as a benchmark against your deep-learning encoder's efficiency.  You need to download and compile the VTM software yourself according to the instructions in the main documentation.\n",
    "\n",
    "Why do we need a separate subcommand ``vtm`` for VTM encoding / bitstream generation, instead of just using ``detectron2-eval`` on the fly? i.e. for doing:\n",
    "```\n",
    "Image --> VTM encoding --> VTM decoding --> Detectron2\n",
    "```\n",
    "That is because encoding performed by VTM is *very* CPU intensive task, so it is something you don't really want to repeat (encoding 5000 sample images, depending on your qpars value, can take several days..!), so we use the ``vtm`` subcommand to manage, encode and cache the VTM produced bitstreams on disk.\n",
    "\n",
    "Let's generate some encoded bitstreams."
   ]
  },
  {
   "cell_type": "code",
   "execution_count": 13,
   "id": "738e52ff",
   "metadata": {
    "tags": [
     "remove_cell"
    ]
   },
   "outputs": [],
   "source": [
    "!rm -rf /tmp/bitstreams"
   ]
  },
  {
   "cell_type": "code",
   "execution_count": 14,
   "id": "17084c17",
   "metadata": {},
   "outputs": [
    {
     "name": "stdout",
     "output_type": "stream",
     "text": [
      "importing fiftyone\n",
      "fiftyone imported\n",
      "reading VTM config from '/home/sampsa/silo/interdigital/VVCSoftware_VTM/cfg/encoder_intra_vtm.cfg'\n",
      "WARNING: using a dataset slice instead of full dataset\n",
      "\n",
      "VTM bitstream generation\n",
      "WARNING: VTM USES CACHE IN /tmp/bitstreams\n",
      "Target dir             : /tmp/bitstreams\n",
      "Quality points/subdirs : [47]\n",
      "Using dataset          : mpeg-vcm-detection\n",
      "Image Scaling          : 100\n",
      "Using slice            : 0:2\n",
      "Number of samples      : 2\n",
      "Progressbar            : False\n",
      "Output file            : vtm_out.json\n",
      "Print progress         : 1\n",
      "\n",
      "QUALITY PARAMETER 47\n",
      "VTMEncoderDecoder - INFO - creating /tmp/bitstreams\n",
      "VTMEncoderDecoder - WARNING - creating bitstream /tmp/bitstreams/100/47/bin_0001eeaf4aed83f9 with VTMEncode from scratch\n",
      "sample:  1 / 2 tag: 0001eeaf4aed83f9\n",
      "VTMEncoderDecoder - WARNING - creating bitstream /tmp/bitstreams/100/47/bin_000a1249af2bc5f0 with VTMEncode from scratch\n",
      "sample:  2 / 2 tag: 000a1249af2bc5f0\n",
      "\n",
      "HAVE A NICE DAY!\n",
      "\n"
     ]
    }
   ],
   "source": [
    "!compressai-vision vtm --y --dataset-name=mpeg-vcm-detection \\\n",
    "--slice=0:2 \\\n",
    "--scale=100 \\\n",
    "--progress=1 \\\n",
    "--qpars=47 \\\n",
    "--vtm_cache=/tmp/bitstreams \\\n",
    "--vtm_dir={path_to_vtm_software}/bin \\\n",
    "--vtm_cfg={path_to_vtm_software}/cfg/encoder_intra_vtm.cfg \\\n",
    "--output=vtm_out.json"
   ]
  },
  {
   "cell_type": "markdown",
   "id": "b4622e7f",
   "metadata": {},
   "source": [
    "As you can see, bitstreams we're generated and cached into ``/tmp/bitstreams/SCALE/QP``.  Let's see what happens if we run the exact same command again: "
   ]
  },
  {
   "cell_type": "code",
   "execution_count": 15,
   "id": "70c3be52",
   "metadata": {},
   "outputs": [
    {
     "name": "stdout",
     "output_type": "stream",
     "text": [
      "importing fiftyone\n",
      "fiftyone imported\n",
      "reading VTM config from '/home/sampsa/silo/interdigital/VVCSoftware_VTM/cfg/encoder_intra_vtm.cfg'\n",
      "WARNING: using a dataset slice instead of full dataset\n",
      "\n",
      "VTM bitstream generation\n",
      "WARNING: VTM USES CACHE IN /tmp/bitstreams\n",
      "Target dir             : /tmp/bitstreams\n",
      "Quality points/subdirs : [47]\n",
      "Using dataset          : mpeg-vcm-detection\n",
      "Image Scaling          : 100\n",
      "Using slice            : 0:2\n",
      "Number of samples      : 2\n",
      "Progressbar            : False\n",
      "Output file            : vtm_out.json\n",
      "Print progress         : 1\n",
      "\n",
      "QUALITY PARAMETER 47\n",
      "VTMEncoderDecoder - WARNING - folder /tmp/bitstreams/100/47 exists already\n",
      "sample:  1 / 2 tag: 0001eeaf4aed83f9\n",
      "sample:  2 / 2 tag: 000a1249af2bc5f0\n",
      "\n",
      "HAVE A NICE DAY!\n",
      "\n"
     ]
    }
   ],
   "source": [
    "!compressai-vision vtm --y --dataset-name=mpeg-vcm-detection \\\n",
    "--slice=0:2 \\\n",
    "--scale=100 \\\n",
    "--progress=1 \\\n",
    "--qpars=47 \\\n",
    "--vtm_cache=/tmp/bitstreams \\\n",
    "--vtm_dir={path_to_vtm_software}/bin \\\n",
    "--vtm_cfg={path_to_vtm_software}/cfg/encoder_intra_vtm.cfg \\\n",
    "--output=vtm_out.json"
   ]
  },
  {
   "cell_type": "markdown",
   "id": "cd7125f0",
   "metadata": {},
   "source": [
    "Instead of generating the bitstreams, the program found them cached on the disk and just verified them.\n",
    "\n",
    "Let's fool around and corrupt one of the bitstreams:"
   ]
  },
  {
   "cell_type": "code",
   "execution_count": 16,
   "id": "e1fde11a",
   "metadata": {},
   "outputs": [],
   "source": [
    "!echo \" \" > /tmp/bitstreams/100/47/bin_000a1249af2bc5f0"
   ]
  },
  {
   "cell_type": "markdown",
   "id": "8453415e",
   "metadata": {},
   "source": [
    "And run the command again:"
   ]
  },
  {
   "cell_type": "code",
   "execution_count": 18,
   "id": "acf85f8a",
   "metadata": {},
   "outputs": [
    {
     "name": "stdout",
     "output_type": "stream",
     "text": [
      "importing fiftyone\n",
      "fiftyone imported\n",
      "reading VTM config from '/home/sampsa/silo/interdigital/VVCSoftware_VTM/cfg/encoder_intra_vtm.cfg'\n",
      "WARNING: using a dataset slice instead of full dataset\n",
      "\n",
      "VTM bitstream generation\n",
      "WARNING: VTM USES CACHE IN /tmp/bitstreams\n",
      "Target dir             : /tmp/bitstreams\n",
      "Quality points/subdirs : [47]\n",
      "Using dataset          : mpeg-vcm-detection\n",
      "Image Scaling          : 100\n",
      "Using slice            : 0:2\n",
      "Number of samples      : 2\n",
      "Progressbar            : False\n",
      "Output file            : vtm_out.json\n",
      "Print progress         : 1\n",
      "\n",
      "QUALITY PARAMETER 47\n",
      "VTMEncoderDecoder - WARNING - folder /tmp/bitstreams/100/47 exists already\n",
      "sample:  1 / 2 tag: 0001eeaf4aed83f9\n",
      "VTMEncoderDecoder - CRITICAL - VTM encode failed with Warning: Attempt to decode an empty NAL unit\n",
      "\n",
      "VTMEncoderDecoder - CRITICAL - VTMDecode failed: will skip image 000a1249af2bc5f0 & remove the bitstream file\n",
      "ERROR: Corrupt data for image id=633720fcee3965dd257f247c, tag=000a1249af2bc5f0, path=/home/sampsa/fiftyone/mpeg-vcm-detection/data/000a1249af2bc5f0.jpg\n",
      "ERROR: Trying to regenerate\n",
      "VTMEncoderDecoder - WARNING - creating bitstream /tmp/bitstreams/100/47/bin_000a1249af2bc5f0 with VTMEncode from scratch\n",
      "sample:  2 / 2 tag: 000a1249af2bc5f0\n",
      "\n",
      "HAVE A NICE DAY!\n",
      "\n"
     ]
    }
   ],
   "source": [
    "!compressai-vision vtm --y --dataset-name=mpeg-vcm-detection \\\n",
    "--slice=0:2 \\\n",
    "--scale=100 \\\n",
    "--progress=1 \\\n",
    "--qpars=47 \\\n",
    "--vtm_cache=/tmp/bitstreams \\\n",
    "--vtm_dir={path_to_vtm_software}/bin \\\n",
    "--vtm_cfg={path_to_vtm_software}/cfg/encoder_intra_vtm.cfg \\\n",
    "--output=vtm_out.json"
   ]
  },
  {
   "cell_type": "markdown",
   "id": "22c55cbf",
   "metadata": {},
   "source": [
    "You can run the ``vtm`` command parallelized over *both* quality parameters *and* dataset slices in order to speed things up.  In the case of crashes / data corruption, you can just send the same scripts into your queue system over and over again if necessary.\n",
    "\n",
    "Finally, you can run ``detectron2-eval`` for the VTM case like this:"
   ]
  },
  {
   "cell_type": "code",
   "execution_count": 19,
   "id": "042fbf8c",
   "metadata": {},
   "outputs": [
    {
     "name": "stdout",
     "output_type": "stream",
     "text": [
      "importing fiftyone\n",
      "fiftyone imported\n",
      "WARNING: using a dataset slice instead of full dataset: SURE YOU WANT THIS?\n",
      "Reading vtm config from: /home/sampsa/silo/interdigital/VVCSoftware_VTM/cfg/encoder_intra_vtm.cfg\n",
      "\n",
      "Using dataset          : mpeg-vcm-detection\n",
      "Dataset tmp clone      : detectron-run-sampsa-mpeg-vcm-detection-2022-10-11-18-21-25-081407\n",
      "Image scaling          : 100\n",
      "WARNING: Using slice   : 0:2\n",
      "Number of samples      : 2\n",
      "Torch device           : cpu\n",
      "Detectron2 model       : COCO-Detection/faster_rcnn_X_101_32x8d_FPN_3x.yaml\n",
      "Model was trained with : coco_2017_train\n",
      "Using VTM               \n",
      "WARNING: VTM USES CACHE IN /tmp/bitstreams\n",
      "Quality parameters     : [47]\n",
      "Ground truth data field name\n",
      "                       : detections\n",
      "Eval. results will be saved to datafield\n",
      "                       : detectron-predictions\n",
      "Evaluation protocol    : open-images\n",
      "Progressbar            : False\n",
      "Print progress         : 1\n",
      "Output file            : detectron2_vtm.json\n",
      "Peek model classes     :\n",
      "['airplane', 'apple', 'backpack', 'banana', 'baseball bat'] ...\n",
      "Peek dataset classes   :\n",
      "['airplane', 'person'] ...\n",
      "cloning dataset mpeg-vcm-detection to detectron-run-sampsa-mpeg-vcm-detection-2022-10-11-18-21-25-081407\n",
      "instantiating Detectron2 predictor\n",
      "VTMEncoderDecoder - WARNING - folder /tmp/bitstreams/100/47 exists already\n",
      "/home/sampsa/silo/interdigital/venv_all/lib/python3.8/site-packages/torch/_tensor.py:575: UserWarning: floor_divide is deprecated, and will be removed in a future version of pytorch. It currently rounds toward 0 (like the 'trunc' function NOT 'floor'). This results in incorrect rounding for negative values.\n",
      "To keep the current behavior, use torch.div(a, b, rounding_mode='trunc'), or for actual floor division, use torch.div(a, b, rounding_mode='floor'). (Triggered internally at  ../aten/src/ATen/native/BinaryOps.cpp:467.)\n",
      "  return torch.floor_divide(self, other)\n",
      "sample:  1 / 2\n",
      "sample:  2 / 2\n",
      "Ignoring unsupported parameters {'compute_mAP'} for <class 'fiftyone.utils.eval.openimages.OpenImagesEvaluationConfig'>\n",
      "Evaluating detections...\n",
      " 100% |███████████| 2/2 [19.0ms elapsed, 0s remaining, 105.1 samples/s] \n",
      "deleting tmp database detectron-run-sampsa-mpeg-vcm-detection-2022-10-11-18-21-25-081407\n",
      "\n",
      "HAVE A NICE DAY!\n",
      "\n"
     ]
    }
   ],
   "source": [
    "!compressai-vision detectron2-eval --y --dataset-name=mpeg-vcm-detection \\\n",
    "--slice=0:2 \\\n",
    "--scale=100 \\\n",
    "--progress=1 \\\n",
    "--qpars=47 \\\n",
    "--vtm \\\n",
    "--vtm_cache=/tmp/bitstreams \\\n",
    "--vtm_dir={path_to_vtm_software}/bin \\\n",
    "--vtm_cfg={path_to_vtm_software}/cfg/encoder_intra_vtm.cfg \\\n",
    "--output=detectron2_vtm.json \\\n",
    "--model=COCO-Detection/faster_rcnn_X_101_32x8d_FPN_3x.yaml"
   ]
  },
  {
   "cell_type": "code",
   "execution_count": null,
   "id": "0b5f3d8d",
   "metadata": {},
   "outputs": [],
   "source": []
  }
 ],
 "metadata": {
  "celltoolbar": "Tags",
  "kernelspec": {
   "display_name": "Python 3",
   "language": "python",
   "name": "python3"
  },
  "language_info": {
   "codemirror_mode": {
    "name": "ipython",
    "version": 3
   },
   "file_extension": ".py",
   "mimetype": "text/x-python",
   "name": "python",
   "nbconvert_exporter": "python",
   "pygments_lexer": "ipython3",
   "version": "3.8.10"
  }
 },
 "nbformat": 4,
 "nbformat_minor": 5
}
