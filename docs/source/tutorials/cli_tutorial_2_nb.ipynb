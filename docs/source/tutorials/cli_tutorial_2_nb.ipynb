{
 "cells": [
  {
   "cell_type": "markdown",
   "id": "a9b7f123",
   "metadata": {
    "tags": [
     "remove_cell"
    ]
   },
   "source": [
    "# Tutorial, chapter 2\n",
    "\n",
    "- de/registering datasets into fiftyone"
   ]
  },
  {
   "cell_type": "code",
   "execution_count": 13,
   "id": "b470ee74",
   "metadata": {
    "tags": [
     "remove_cell"
    ]
   },
   "outputs": [
    {
     "name": "stderr",
     "output_type": "stream",
     "text": [
      "/tmp/ipykernel_46434/1348678174.py:6: DeprecationWarning: Importing display from IPython.core.display is deprecated since IPython 7.14, please import from IPython display\n",
      "  from IPython.core.display import display, HTML, Markdown\n"
     ]
    },
    {
     "data": {
      "text/html": [
       "<style>.container { width:100% !important; }</style>"
      ],
      "text/plain": [
       "<IPython.core.display.HTML object>"
      ]
     },
     "metadata": {},
     "output_type": "display_data"
    }
   ],
   "source": [
    "# https://nbconvert.readthedocs.io/en/latest/removing_cells.html\n",
    "# use these magic spells to update your classes methods on-the-fly as you edit them:\n",
    "%reload_ext autoreload\n",
    "%autoreload 2\n",
    "from pprint import pprint\n",
    "from IPython.core.display import display, HTML, Markdown\n",
    "import ipywidgets as widgets\n",
    "# %run includeme.ipynb # include a notebook from this same directory\n",
    "display(HTML(\"<style>.container { width:100% !important; }</style>\"))"
   ]
  },
  {
   "cell_type": "code",
   "execution_count": 1,
   "id": "d40acd5e",
   "metadata": {
    "tags": [
     "remove_cell"
    ]
   },
   "outputs": [
    {
     "name": "stdout",
     "output_type": "stream",
     "text": [
      "importing fiftyone\n",
      "fiftyone imported\n",
      "\n",
      "removing tmp datasets for username sampsa\n",
      "WARNING: be sure not to remove datasets currently used by a process\n",
      "importing fiftyone\n",
      "fiftyone imported\n",
      "removing dataset quickstart-2-dummy from fiftyone\n",
      "could not deregister because of Dataset 'quickstart-2-dummy' not found\n",
      "importing fiftyone\n",
      "fiftyone imported\n",
      "removing dataset quickstart-2 from fiftyone\n",
      "could not deregister because of Dataset 'quickstart-2' not found\n"
     ]
    }
   ],
   "source": [
    "!compressai-vision clean --y\n",
    "!compressai-vision deregister --dataset-name quickstart-2-dummy --y\n",
    "!compressai-vision deregister --dataset-name quickstart-2 --y\n",
    "# !compressai-vision deregister --dataset-name quickstart --y"
   ]
  },
  {
   "cell_type": "markdown",
   "id": "57276ad6",
   "metadata": {},
   "source": [
    "In this chapter you will learn:\n",
    "\n",
    "- registering and deregistering datasets into fiftyone"
   ]
  },
  {
   "cell_type": "markdown",
   "id": "206875f2",
   "metadata": {},
   "source": [
    "In the previous chapter we downloaded & registered the dataset \"quickstart\" from the fiftyone model zoo:"
   ]
  },
  {
   "cell_type": "code",
   "execution_count": 2,
   "id": "dca1edb7",
   "metadata": {},
   "outputs": [
    {
     "name": "stdout",
     "output_type": "stream",
     "text": [
      "importing fiftyone\n",
      "fiftyone imported\n",
      "\n",
      "datasets currently registered into fiftyone\n",
      "name, length, first sample path\n",
      "mpeg-vcm-detection, 5000, /home/sampsa/fiftyone/mpeg-vcm-detection/data\n",
      "mpeg-vcm-detection-dummy, 1, /home/sampsa/fiftyone/mpeg-vcm-detection/data\n",
      "mpeg-vcm-segmentation, 5000, /home/sampsa/fiftyone/mpeg-vcm-segmentation/data\n",
      "open-images-v6-validation, 8189, /home/sampsa/fiftyone/open-images-v6/validation/data\n",
      "quickstart, 200, /home/sampsa/fiftyone/quickstart/data\n"
     ]
    }
   ],
   "source": [
    "!compressai-vision list"
   ]
  },
  {
   "cell_type": "markdown",
   "id": "3c8b1ed0",
   "metadata": {},
   "source": [
    "All the metadata, ground truth bboxes, etc. reside now in the fiftyone/mongodb database at dataset \"quickstart\".  That data was read into the database originally from directory ``~/fiftyone/quickstart``.  Let's see what's in there:"
   ]
  },
  {
   "cell_type": "code",
   "execution_count": 5,
   "id": "a2dd7c36",
   "metadata": {},
   "outputs": [
    {
     "name": "stdout",
     "output_type": "stream",
     "text": [
      "data  info.json  metadata.json\tsamples.json\r\n"
     ]
    }
   ],
   "source": [
    "!ls ~/fiftyone/quickstart"
   ]
  },
  {
   "cell_type": "markdown",
   "id": "e63a71e5",
   "metadata": {},
   "source": [
    "Exactly.  Note directory ``data``.  That is where the sample images are (they are *not* in the database, but just on the disk as image files).  Let's take a look at that:"
   ]
  },
  {
   "cell_type": "code",
   "execution_count": 7,
   "id": "f39112ce",
   "metadata": {},
   "outputs": [
    {
     "name": "stdout",
     "output_type": "stream",
     "text": [
      "000002.jpg  000889.jpg\t001851.jpg  002598.jpg\t003754.jpg  004416.jpg\r\n",
      "000008.jpg  000890.jpg\t001867.jpg  002640.jpg\t003769.jpg  004431.jpg\r\n",
      "000020.jpg  000939.jpg\t001888.jpg  002645.jpg\t003805.jpg  004510.jpg\r\n",
      "000031.jpg  000957.jpg\t001934.jpg  002660.jpg\t003870.jpg  004514.jpg\r\n",
      "000035.jpg  000998.jpg\t001949.jpg  002671.jpg\t003871.jpg  004517.jpg\r\n",
      "000058.jpg  001047.jpg\t001951.jpg  002748.jpg\t003880.jpg  004525.jpg\r\n",
      "000083.jpg  001057.jpg\t001983.jpg  002799.jpg\t003888.jpg  004534.jpg\r\n",
      "000089.jpg  001073.jpg\t002015.jpg  002823.jpg\t003911.jpg  004535.jpg\r\n",
      "000145.jpg  001078.jpg\t002022.jpg  002869.jpg\t003964.jpg  004546.jpg\r\n",
      "000164.jpg  001118.jpg\t002063.jpg  002905.jpg\t003969.jpg  004548.jpg\r\n",
      "000191.jpg  001133.jpg\t002070.jpg  002906.jpg\t003978.jpg  004557.jpg\r\n",
      "000192.jpg  001147.jpg\t002086.jpg  002939.jpg\t004039.jpg  004585.jpg\r\n",
      "000400.jpg  001154.jpg\t002121.jpg  002953.jpg\t004066.jpg  004590.jpg\r\n",
      "000436.jpg  001191.jpg\t002129.jpg  003084.jpg\t004082.jpg  004610.jpg\r\n",
      "000452.jpg  001227.jpg\t002143.jpg  003087.jpg\t004095.jpg  004627.jpg\r\n",
      "000496.jpg  001289.jpg\t002184.jpg  003107.jpg\t004096.jpg  004651.jpg\r\n",
      "000510.jpg  001312.jpg\t002186.jpg  003132.jpg\t004126.jpg  004656.jpg\r\n",
      "000557.jpg  001348.jpg\t002233.jpg  003148.jpg\t004131.jpg  004702.jpg\r\n",
      "000575.jpg  001394.jpg\t002284.jpg  003154.jpg\t004170.jpg  004713.jpg\r\n",
      "000591.jpg  001429.jpg\t002334.jpg  003254.jpg\t004172.jpg  004743.jpg\r\n",
      "000594.jpg  001430.jpg\t002353.jpg  003316.jpg\t004180.jpg  004755.jpg\r\n",
      "000600.jpg  001586.jpg\t002431.jpg  003344.jpg\t004222.jpg  004775.jpg\r\n",
      "000641.jpg  001587.jpg\t002439.jpg  003391.jpg\t004253.jpg  004781.jpg\r\n",
      "000643.jpg  001599.jpg\t002450.jpg  003420.jpg\t004255.jpg  004831.jpg\r\n",
      "000648.jpg  001614.jpg\t002462.jpg  003486.jpg\t004263.jpg  004852.jpg\r\n",
      "000665.jpg  001624.jpg\t002468.jpg  003502.jpg\t004284.jpg  004939.jpg\r\n",
      "000696.jpg  001631.jpg\t002489.jpg  003541.jpg\t004292.jpg  004941.jpg\r\n",
      "000772.jpg  001634.jpg\t002497.jpg  003614.jpg\t004304.jpg  004965.jpg\r\n",
      "000773.jpg  001645.jpg\t002514.jpg  003659.jpg\t004315.jpg  004978.jpg\r\n",
      "000781.jpg  001685.jpg\t002538.jpg  003662.jpg\t004316.jpg  004981.jpg\r\n",
      "000793.jpg  001698.jpg\t002553.jpg  003665.jpg\t004329.jpg\r\n",
      "000807.jpg  001741.jpg\t002586.jpg  003667.jpg\t004330.jpg\r\n",
      "000868.jpg  001744.jpg\t002592.jpg  003713.jpg\t004341.jpg\r\n",
      "000880.jpg  001763.jpg\t002597.jpg  003715.jpg\t004371.jpg\r\n"
     ]
    }
   ],
   "source": [
    "!ls ~/fiftyone/quickstart/data"
   ]
  },
  {
   "cell_type": "markdown",
   "id": "df910da7",
   "metadata": {},
   "source": [
    "The fiftyone dataset \"quickstart\" has only the paths to these files.\n",
    "\n",
    "Next suppose you have a dataset already on your disk (say, on the ImageDir format, COCO format, whatever) and you wish to register it into fiftyone.\n",
    "\n",
    "In order to demo that, let's create a copy of ``~/fiftyone/quickstart``:"
   ]
  },
  {
   "cell_type": "code",
   "execution_count": 8,
   "id": "414d173e",
   "metadata": {},
   "outputs": [],
   "source": [
    "!cp -r ~/fiftyone/quickstart /tmp/my_data_set"
   ]
  },
  {
   "cell_type": "markdown",
   "id": "961d17dc",
   "metadata": {},
   "source": [
    "Let's imagine ``/tmp/my_data_set`` is that custom dataset of yours you had already lying around.\n",
    "\n",
    "We register it to fiftyone with:"
   ]
  },
  {
   "cell_type": "code",
   "execution_count": 1,
   "id": "fd7a97b1",
   "metadata": {},
   "outputs": [
    {
     "name": "stdout",
     "output_type": "stream",
     "text": [
      "importing fiftyone\n",
      "fiftyone imported\n",
      "\n",
      "WARNING: using/registering with ALL images.  You should use the --lists option\n",
      "From directory  :     /tmp/my_data_set\n",
      "Using list file :     None\n",
      "Number of images:     ?\n",
      "Registering name:     my_dataset\n",
      "\n",
      "Ignoring unsupported parameter 'label_types' for importer type <class 'fiftyone.utils.data.importers.FiftyOneDatasetImporter'>\n",
      "Ignoring unsupported parameter 'load_hierarchy' for importer type <class 'fiftyone.utils.data.importers.FiftyOneDatasetImporter'>\n",
      " 100% |███████| 200/200 [3.0s elapsed, 0s remaining, 65.3 samples/s]      \n",
      "\n",
      "** Let's peek at the first sample - check that it looks ok:**\n",
      "\n",
      "<Sample: {\n",
      "    'id': '633d499dad3c137e8ef16292',\n",
      "    'media_type': 'image',\n",
      "    'filepath': '/tmp/my_data_set/data/000880.jpg',\n",
      "    'tags': BaseList(['validation']),\n",
      "    'metadata': None,\n",
      "    'ground_truth': <Detections: {\n",
      "        'detections': BaseList([\n",
      "            <Detection: {\n",
      "                'id': '5f452471ef00e6374aac53c8',\n",
      "                'attributes': BaseDict({}),\n",
      "                'tags': BaseList([]),\n",
      "                'label': 'bird',\n",
      "                'bounding_box': BaseList([\n",
      "                    0.21084375,\n",
      "                    0.0034375,\n",
      "                    0.46190625,\n",
      "                    0.9442083333333334,\n",
      "                ]),\n",
      "                'mask': None,\n",
      "                'confidence': None,\n",
      "                'index': None,\n",
      "                'area': 73790.37944999996,\n",
      "                'iscrowd': 0.0,\n",
      "            }>,\n",
      "            <Detection: {\n",
      "                'id': '5f452471ef00e6374aac53c9',\n",
      "                'attributes': BaseDict({}),\n",
      "                'tags': BaseList([]),\n",
      "                'label': 'bird',\n",
      "                'bounding_box': BaseList([\n",
      "                    0.74946875,\n",
      "                    0.489375,\n",
      "                    0.2164375,\n",
      "                    0.23183333333333334,\n",
      "                ]),\n",
      "                'mask': None,\n",
      "                'confidence': None,\n",
      "                'index': None,\n",
      "                'area': 3935.7593000000006,\n",
      "                'iscrowd': 0.0,\n",
      "            }>,\n",
      "            <Detection: {\n",
      "                'id': '5f452471ef00e6374aac53ca',\n",
      "                'attributes': BaseDict({}),\n",
      "                'tags': BaseList([]),\n",
      "                'label': 'bird',\n",
      "                'bounding_box': BaseList([\n",
      "                    0.044234375,\n",
      "                    0.5282083333333333,\n",
      "                    0.151390625,\n",
      "                    0.14145833333333335,\n",
      "                ]),\n",
      "                'mask': None,\n",
      "                'confidence': None,\n",
      "                'index': None,\n",
      "                'area': 4827.32605,\n",
      "                'iscrowd': 0.0,\n",
      "            }>,\n",
      "        ]),\n",
      "    }>,\n",
      "    'uniqueness': 0.8175834390151201,\n",
      "    'predictions': <Detections: {\n",
      "        'detections': BaseList([\n",
      "            <Detection: {\n",
      "                'id': '5f452c60ef00e6374aad9394',\n",
      "                'attributes': BaseDict({}),\n",
      "                'tags': BaseList([]),\n",
      "                'label': 'bird',\n",
      "                'bounding_box': BaseList([\n",
      "                    0.22192673683166503,\n",
      "                    0.06093006531397502,\n",
      "                    0.4808845520019531,\n",
      "                    0.8937615712483724,\n",
      "                ]),\n",
      "                'mask': None,\n",
      "                'confidence': 0.9750854969024658,\n",
      "                'index': None,\n",
      "            }>,\n",
      "            <Detection: {\n",
      "                'id': '5f452c60ef00e6374aad9395',\n",
      "                'attributes': BaseDict({}),\n",
      "                'tags': BaseList([]),\n",
      "                'label': 'bird',\n",
      "                'bounding_box': BaseList([\n",
      "                    0.3962469816207886,\n",
      "                    0.006943931678930918,\n",
      "                    0.27418792247772217,\n",
      "                    0.46793556213378906,\n",
      "                ]),\n",
      "                'mask': None,\n",
      "                'confidence': 0.759726881980896,\n",
      "                'index': None,\n",
      "            }>,\n",
      "            <Detection: {\n",
      "                'id': '5f452c60ef00e6374aad9396',\n",
      "                'attributes': BaseDict({}),\n",
      "                'tags': BaseList([]),\n",
      "                'label': 'bird',\n",
      "                'bounding_box': BaseList([\n",
      "                    0.02506386339664459,\n",
      "                    0.548487663269043,\n",
      "                    0.16438478231430054,\n",
      "                    0.16736234029134114,\n",
      "                ]),\n",
      "                'mask': None,\n",
      "                'confidence': 0.6569182276725769,\n",
      "                'index': None,\n",
      "            }>,\n",
      "            <Detection: {\n",
      "                'id': '5f452c60ef00e6374aad9397',\n",
      "                'attributes': BaseDict({}),\n",
      "                'tags': BaseList([]),\n",
      "                'label': 'bird',\n",
      "                'bounding_box': BaseList([\n",
      "                    0.4889101028442383,\n",
      "                    0.009576511383056641,\n",
      "                    0.13802199363708495,\n",
      "                    0.2093157132466634,\n",
      "                ]),\n",
      "                'mask': None,\n",
      "                'confidence': 0.2359301745891571,\n",
      "                'index': None,\n",
      "            }>,\n",
      "            <Detection: {\n",
      "                'id': '5f452c60ef00e6374aad9398',\n",
      "                'attributes': BaseDict({}),\n",
      "                'tags': BaseList([]),\n",
      "                'label': 'elephant',\n",
      "                'bounding_box': BaseList([\n",
      "                    0.015171945095062256,\n",
      "                    0.555288823445638,\n",
      "                    0.1813342332839966,\n",
      "                    0.15938574473063152,\n",
      "                ]),\n",
      "                'mask': None,\n",
      "                'confidence': 0.221974179148674,\n",
      "                'index': None,\n",
      "            }>,\n",
      "            <Detection: {\n",
      "                'id': '5f452c60ef00e6374aad9399',\n",
      "                'attributes': BaseDict({}),\n",
      "                'tags': BaseList([]),\n",
      "                'label': 'bear',\n",
      "                'bounding_box': BaseList([\n",
      "                    0.017808181047439576,\n",
      "                    0.5488224665323893,\n",
      "                    0.17450940608978271,\n",
      "                    0.16891117095947267,\n",
      "                ]),\n",
      "                'mask': None,\n",
      "                'confidence': 0.1965726613998413,\n",
      "                'index': None,\n",
      "            }>,\n",
      "            <Detection: {\n",
      "                'id': '5f452c60ef00e6374aad939a',\n",
      "                'attributes': BaseDict({}),\n",
      "                'tags': BaseList([]),\n",
      "                'label': 'elephant',\n",
      "                'bounding_box': BaseList([\n",
      "                    0.16558188199996948,\n",
      "                    0.5723957061767578,\n",
      "                    0.09993256330490112,\n",
      "                    0.10098978678385416,\n",
      "                ]),\n",
      "                'mask': None,\n",
      "                'confidence': 0.18904592096805573,\n",
      "                'index': None,\n",
      "            }>,\n",
      "            <Detection: {\n",
      "                'id': '5f452c60ef00e6374aad939b',\n",
      "                'attributes': BaseDict({}),\n",
      "                'tags': BaseList([]),\n",
      "                'label': 'sheep',\n",
      "                'bounding_box': BaseList([\n",
      "                    0.213010573387146,\n",
      "                    0.05354320605595907,\n",
      "                    0.5153374671936035,\n",
      "                    0.8933518091837566,\n",
      "                ]),\n",
      "                'mask': None,\n",
      "                'confidence': 0.11480894684791565,\n",
      "                'index': None,\n",
      "            }>,\n",
      "            <Detection: {\n",
      "                'id': '5f452c60ef00e6374aad939c',\n",
      "                'attributes': BaseDict({}),\n",
      "                'tags': BaseList([]),\n",
      "                'label': 'bird',\n",
      "                'bounding_box': BaseList([\n",
      "                    0.29751906394958494,\n",
      "                    0.010790024201075237,\n",
      "                    0.3315577507019043,\n",
      "                    0.34026527404785156,\n",
      "                ]),\n",
      "                'mask': None,\n",
      "                'confidence': 0.11089690029621124,\n",
      "                'index': None,\n",
      "            }>,\n",
      "            <Detection: {\n",
      "                'id': '5f452c60ef00e6374aad939d',\n",
      "                'attributes': BaseDict({}),\n",
      "                'tags': BaseList([]),\n",
      "                'label': 'elephant',\n",
      "                'bounding_box': BaseList([\n",
      "                    0.08351035118103027,\n",
      "                    0.5574632008870443,\n",
      "                    0.18209288120269776,\n",
      "                    0.1426785151163737,\n",
      "                ]),\n",
      "                'mask': None,\n",
      "                'confidence': 0.0971052274107933,\n",
      "                'index': None,\n",
      "            }>,\n",
      "            <Detection: {\n",
      "                'id': '5f452c60ef00e6374aad939e',\n",
      "                'attributes': BaseDict({}),\n",
      "                'tags': BaseList([]),\n",
      "                'label': 'bird',\n",
      "                'bounding_box': BaseList([\n",
      "                    0.4461814880371094,\n",
      "                    0.0007838249827424685,\n",
      "                    0.209574556350708,\n",
      "                    0.309667714436849,\n",
      "                ]),\n",
      "                'mask': None,\n",
      "                'confidence': 0.08403241634368896,\n",
      "                'index': None,\n",
      "            }>,\n",
      "            <Detection: {\n",
      "                'id': '5f452c60ef00e6374aad939f',\n",
      "                'attributes': BaseDict({}),\n",
      "                'tags': BaseList([]),\n",
      "                'label': 'bird',\n",
      "                'bounding_box': BaseList([\n",
      "                    0.5395165920257569,\n",
      "                    0.034476550420125325,\n",
      "                    0.07703280448913574,\n",
      "                    0.16296254793802897,\n",
      "                ]),\n",
      "                'mask': None,\n",
      "                'confidence': 0.07699568569660187,\n",
      "                'index': None,\n",
      "            }>,\n",
      "            <Detection: {\n",
      "                'id': '5f452c60ef00e6374aad93a0',\n",
      "                'attributes': BaseDict({}),\n",
      "                'tags': BaseList([]),\n",
      "                'label': 'bear',\n",
      "                'bounding_box': BaseList([\n",
      "                    0.217216157913208,\n",
      "                    0.05954849322636922,\n",
      "                    0.49451656341552735,\n",
      "                    0.8721434275309244,\n",
      "                ]),\n",
      "                'mask': None,\n",
      "                'confidence': 0.058097004890441895,\n",
      "                'index': None,\n",
      "            }>,\n",
      "            <Detection: {\n",
      "                'id': '5f452c60ef00e6374aad93a1',\n",
      "                'attributes': BaseDict({}),\n",
      "                'tags': BaseList([]),\n",
      "                'label': 'sheep',\n",
      "                'bounding_box': BaseList([\n",
      "                    0.018094074726104737,\n",
      "                    0.5562847137451172,\n",
      "                    0.17362892627716064,\n",
      "                    0.15742950439453124,\n",
      "                ]),\n",
      "                'mask': None,\n",
      "                'confidence': 0.0519101656973362,\n",
      "                'index': None,\n",
      "            }>,\n",
      "        ]),\n",
      "    }>,\n",
      "}>\n",
      "\n"
     ]
    }
   ],
   "source": [
    "!compressai-vision register --y \\\n",
    "--dataset-name=my_dataset \\\n",
    "--dir=/tmp/my_data_set \\\n",
    "--type=FiftyOneDataset"
   ]
  },
  {
   "cell_type": "markdown",
   "id": "50dffb22",
   "metadata": {},
   "source": [
    "here ``--type`` depends on the directory/file structure your data directory has.  Typical values are ``FiftyOneDataset, OpenImagesV6Dataset, ImageDirectory``.  Please take a look in [here](https://voxel51.com/docs/fiftyone/api/fiftyone.types.dataset_types.html) for more information.\n",
    "\n",
    "Let's check that the dataset got registered correctly:"
   ]
  },
  {
   "cell_type": "code",
   "execution_count": 2,
   "id": "8ccd56bd",
   "metadata": {},
   "outputs": [
    {
     "name": "stdout",
     "output_type": "stream",
     "text": [
      "importing fiftyone\n",
      "fiftyone imported\n",
      "\n",
      "datasets currently registered into fiftyone\n",
      "name, length, first sample path\n",
      "mpeg-vcm-detection, 5000, /home/sampsa/fiftyone/mpeg-vcm-detection/data\n",
      "mpeg-vcm-detection-dummy, 1, /home/sampsa/fiftyone/mpeg-vcm-detection/data\n",
      "mpeg-vcm-segmentation, 5000, /home/sampsa/fiftyone/mpeg-vcm-segmentation/data\n",
      "my_dataset, 200, /tmp/my_data_set/data\n",
      "open-images-v6-validation, 8189, /home/sampsa/fiftyone/open-images-v6/validation/data\n",
      "quickstart, 200, /home/sampsa/fiftyone/quickstart/data\n"
     ]
    }
   ],
   "source": [
    "!compressai-vision list"
   ]
  },
  {
   "cell_type": "markdown",
   "id": "3ad8e6d7",
   "metadata": {},
   "source": [
    "A more detailed look into the dataset:"
   ]
  },
  {
   "cell_type": "code",
   "execution_count": 3,
   "id": "fc4be243",
   "metadata": {},
   "outputs": [
    {
     "name": "stdout",
     "output_type": "stream",
     "text": [
      "importing fiftyone\n",
      "fiftyone imported\n",
      "\n",
      "dataset info:\n",
      "Name:        my_dataset\n",
      "Media type:  image\n",
      "Num samples: 200\n",
      "Persistent:  True\n",
      "Tags:        []\n",
      "Sample fields:\n",
      "    id:           fiftyone.core.fields.ObjectIdField\n",
      "    filepath:     fiftyone.core.fields.StringField\n",
      "    tags:         fiftyone.core.fields.ListField(fiftyone.core.fields.StringField)\n",
      "    metadata:     fiftyone.core.fields.EmbeddedDocumentField(fiftyone.core.metadata.ImageMetadata)\n",
      "    ground_truth: fiftyone.core.fields.EmbeddedDocumentField(fiftyone.core.labels.Detections)\n",
      "    uniqueness:   fiftyone.core.fields.FloatField\n",
      "    predictions:  fiftyone.core.fields.EmbeddedDocumentField(fiftyone.core.labels.Detections)\n",
      "\n",
      "test-loading first image from /tmp/my_data_set/data/000880.jpg\n",
      "loaded image with dimensions (480, 640, 3) ok\n"
     ]
    }
   ],
   "source": [
    "!compressai-vision show --dataset-name=my_dataset"
   ]
  },
  {
   "cell_type": "markdown",
   "id": "d9c15102",
   "metadata": {},
   "source": [
    "Let's deregister the dataset:"
   ]
  },
  {
   "cell_type": "code",
   "execution_count": 1,
   "id": "5d30093e",
   "metadata": {},
   "outputs": [
    {
     "name": "stdout",
     "output_type": "stream",
     "text": [
      "importing fiftyone\n",
      "fiftyone imported\n",
      "removing dataset my_dataset from fiftyone\n"
     ]
    }
   ],
   "source": [
    "!compressai-vision deregister --y --dataset-name=my_dataset"
   ]
  },
  {
   "cell_type": "markdown",
   "id": "0e73d869",
   "metadata": {},
   "source": [
    "Check it got removed:"
   ]
  },
  {
   "cell_type": "code",
   "execution_count": 2,
   "id": "6649a447",
   "metadata": {},
   "outputs": [
    {
     "name": "stdout",
     "output_type": "stream",
     "text": [
      "importing fiftyone\n",
      "fiftyone imported\n",
      "\n",
      "datasets currently registered into fiftyone\n",
      "name, length, first sample path\n",
      "mpeg-vcm-detection, 5000, /home/sampsa/fiftyone/mpeg-vcm-detection/data\n",
      "mpeg-vcm-detection-dummy, 1, /home/sampsa/fiftyone/mpeg-vcm-detection/data\n",
      "mpeg-vcm-segmentation, 5000, /home/sampsa/fiftyone/mpeg-vcm-segmentation/data\n",
      "open-images-v6-validation, 8189, /home/sampsa/fiftyone/open-images-v6/validation/data\n",
      "quickstart, 200, /home/sampsa/fiftyone/quickstart/data\n"
     ]
    }
   ],
   "source": [
    "!compressai-vision list"
   ]
  },
  {
   "cell_type": "markdown",
   "id": "3b98332a",
   "metadata": {},
   "source": [
    "Let's remove the image data as well:"
   ]
  },
  {
   "cell_type": "code",
   "execution_count": 3,
   "id": "51ccdf85",
   "metadata": {},
   "outputs": [],
   "source": [
    "!rm -rf /tmp/my_data_set"
   ]
  },
  {
   "cell_type": "code",
   "execution_count": null,
   "id": "d4447d58",
   "metadata": {},
   "outputs": [],
   "source": []
  }
 ],
 "metadata": {
  "celltoolbar": "Tags",
  "kernelspec": {
   "display_name": "Python 3",
   "language": "python",
   "name": "python3"
  },
  "language_info": {
   "codemirror_mode": {
    "name": "ipython",
    "version": 3
   },
   "file_extension": ".py",
   "mimetype": "text/x-python",
   "name": "python",
   "nbconvert_exporter": "python",
   "pygments_lexer": "ipython3",
   "version": "3.8.10"
  }
 },
 "nbformat": 4,
 "nbformat_minor": 5
}
