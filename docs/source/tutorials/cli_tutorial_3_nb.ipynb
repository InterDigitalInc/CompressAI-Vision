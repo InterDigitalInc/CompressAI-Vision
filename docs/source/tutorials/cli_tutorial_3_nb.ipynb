{
 "cells": [
  {
   "cell_type": "code",
   "execution_count": 1,
   "id": "bb280563",
   "metadata": {
    "tags": [
     "remove_cell"
    ]
   },
   "outputs": [
    {
     "name": "stderr",
     "output_type": "stream",
     "text": [
      "/tmp/ipykernel_6230/1348678174.py:6: DeprecationWarning: Importing display from IPython.core.display is deprecated since IPython 7.14, please import from IPython display\n",
      "  from IPython.core.display import display, HTML, Markdown\n"
     ]
    },
    {
     "data": {
      "text/html": [
       "<style>.container { width:100% !important; }</style>"
      ],
      "text/plain": [
       "<IPython.core.display.HTML object>"
      ]
     },
     "metadata": {},
     "output_type": "display_data"
    }
   ],
   "source": [
    "# https://nbconvert.readthedocs.io/en/latest/removing_cells.html\n",
    "# use these magic spells to update your classes methods on-the-fly as you edit them:\n",
    "%reload_ext autoreload\n",
    "%autoreload 2\n",
    "from pprint import pprint\n",
    "from IPython.core.display import display, HTML, Markdown\n",
    "import ipywidgets as widgets\n",
    "# %run includeme.ipynb # include a notebook from this same directory\n",
    "display(HTML(\"<style>.container { width:100% !important; }</style>\"))"
   ]
  },
  {
   "cell_type": "markdown",
   "id": "726bdb7f",
   "metadata": {},
   "source": [
    "The mpeg-vcm working group defines a specially prepared custom datasets (subset of OpenImageV6) for evaluating the performance of your deep-learning de/compression algorithm.\n",
    "\n",
    "The tricky part is importing all that data into fiftyone.  Once we have done that, we can use the CLI tools to evaluate the de/compression model with the mpeg-vcm defined pipeline, i.e.:\n",
    "```\n",
    "mpeg-vcm custom dataset --> compression and decompression --> Detectron2 predictor --> mAP\n",
    "```\n",
    "\n",
    "The CLI tools have a subcommand ``mpeg-vcm-auto-import`` that downloads necessary images from the open images dataset and prepares the annotations according to mpeg-vcm working group specifications, so the only thing you need to do to get started, is simply to type\n",
    "```\n",
    "compressai-vision mpeg-vcm-auto-import\n",
    "```\n",
    "After running that \"wizard\", you should have the mpeg-vcm datasets registered into fiftyone (``mpeg-vcm-detection`` etc. datasets):"
   ]
  },
  {
   "cell_type": "code",
   "execution_count": 2,
   "id": "1b4f013b",
   "metadata": {},
   "outputs": [
    {
     "name": "stdout",
     "output_type": "stream",
     "text": [
      "importing fiftyone\n",
      "fiftyone imported\n",
      "\n",
      "datasets currently registered into fiftyone\n",
      "name, length, first sample path\n",
      "mpeg-vcm-detection, 5000, /home/sampsa/fiftyone/mpeg-vcm-detection/data\n",
      "mpeg-vcm-detection-dummy, 1, /home/sampsa/fiftyone/mpeg-vcm-detection/data\n",
      "mpeg-vcm-segmentation, 5000, /home/sampsa/fiftyone/mpeg-vcm-segmentation/data\n",
      "open-images-v6-validation, 8189, /home/sampsa/fiftyone/open-images-v6/validation/data\n",
      "quickstart, 200, /home/sampsa/fiftyone/quickstart/data\n"
     ]
    }
   ],
   "source": [
    "!compressai-vision list"
   ]
  },
  {
   "cell_type": "code",
   "execution_count": null,
   "id": "bcbb6957",
   "metadata": {},
   "outputs": [],
   "source": []
  }
 ],
 "metadata": {
  "celltoolbar": "Tags",
  "kernelspec": {
   "display_name": "Python 3",
   "language": "python",
   "name": "python3"
  },
  "language_info": {
   "codemirror_mode": {
    "name": "ipython",
    "version": 3
   },
   "file_extension": ".py",
   "mimetype": "text/x-python",
   "name": "python",
   "nbconvert_exporter": "python",
   "pygments_lexer": "ipython3",
   "version": "3.8.10"
  }
 },
 "nbformat": 4,
 "nbformat_minor": 5
}
